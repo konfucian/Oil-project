{
 "cells": [
  {
   "cell_type": "markdown",
   "metadata": {},
   "source": [
    "# Исследование объявлений о продаже квартир\n",
    "\n",
    "В вашем распоряжении данные сервиса Яндекс.Недвижимость — архив объявлений о продаже квартир в Санкт-Петербурге и соседних населённых пунктов за несколько лет. Нужно научиться определять рыночную стоимость объектов недвижимости. Ваша задача — установить параметры. Это позволит построить автоматизированную систему: она отследит аномалии и мошенническую деятельность. \n",
    "\n",
    "По каждой квартире на продажу доступны два вида данных. Первые вписаны пользователем, вторые — получены автоматически на основе картографических данных. Например, расстояние до центра, аэропорта, ближайшего парка и водоёма. "
   ]
  },
  {
   "cell_type": "markdown",
   "metadata": {},
   "source": [
    "## Описание данных:\n",
    "\n",
    "В нашем распоряжении файл с данными о квартирах с сайта Яндекс.Недвижимость в него входит все параметры квартир от площади и цены до дней размещения и удаленности от важных объктов.\n",
    "\n",
    "  ## План работы:\n",
    "  \n",
    "  \n",
    "  1) Изучим общую информацию о данных\n",
    "  \n",
    "  2) Предобработаем их: иправим аномалли, пропуски и ошибки\n",
    "  \n",
    "  3) Проведем аналитическую работу: составим графики, дополним данные, посчитаем нужные нам значения\n",
    "  \n",
    "  4) На каждом шаге оставляем примечения и выводы, в конце опишем общий вывод и что нам дала эта работа! \n",
    "  \n",
    "  \n",
    "  \n",
   ]
  },
  {
   "cell_type": "markdown",
   "metadata": {},
   "source": [
    "### Шаг 1. Откройте файл с данными и изучите общую информацию. "
   ]
  },
  {
   "cell_type": "code",
   "execution_count": 1,
   "metadata": {},
   "outputs": [],
   "source": [
    "import pandas as pd\n",
    "#de - data_estate\n",
    "de = pd.read_csv('/datasets/real_estate_data.csv', sep='\\t')"
   ]
  },
  {
   "cell_type": "code",
   "execution_count": 2,
   "metadata": {},
   "outputs": [
    {
     "name": "stdout",
     "output_type": "stream",
     "text": [
      "<class 'pandas.core.frame.DataFrame'>\n",
      "RangeIndex: 23699 entries, 0 to 23698\n",
      "Data columns (total 22 columns):\n",
      "total_images            23699 non-null int64\n",
      "last_price              23699 non-null float64\n",
      "total_area              23699 non-null float64\n",
      "first_day_exposition    23699 non-null object\n",
      "rooms                   23699 non-null int64\n",
      "ceiling_height          14504 non-null float64\n",
      "floors_total            23613 non-null float64\n",
      "living_area             21796 non-null float64\n",
      "floor                   23699 non-null int64\n",
      "is_apartment            2775 non-null object\n",
      "studio                  23699 non-null bool\n",
      "open_plan               23699 non-null bool\n",
      "kitchen_area            21421 non-null float64\n",
      "balcony                 12180 non-null float64\n",
      "locality_name           23650 non-null object\n",
      "airports_nearest        18157 non-null float64\n",
      "cityCenters_nearest     18180 non-null float64\n",
      "parks_around3000        18181 non-null float64\n",
      "parks_nearest           8079 non-null float64\n",
      "ponds_around3000        18181 non-null float64\n",
      "ponds_nearest           9110 non-null float64\n",
      "days_exposition         20518 non-null float64\n",
      "dtypes: bool(2), float64(14), int64(3), object(3)\n",
      "memory usage: 3.7+ MB\n"
     ]
    }
   ],
   "source": [
    "de.info()"
   ]
  },
  {
   "cell_type": "code",
   "execution_count": 3,
   "metadata": {},
   "outputs": [
    {
     "data": {
      "text/html": [
       "<div>\n",
       "<style scoped>\n",
       "    .dataframe tbody tr th:only-of-type {\n",
       "        vertical-align: middle;\n",
       "    }\n",
       "\n",
       "    .dataframe tbody tr th {\n",
       "        vertical-align: top;\n",
       "    }\n",
       "\n",
       "    .dataframe thead th {\n",
       "        text-align: right;\n",
       "    }\n",
       "</style>\n",
       "<table border=\"1\" class=\"dataframe\">\n",
       "  <thead>\n",
       "    <tr style=\"text-align: right;\">\n",
       "      <th></th>\n",
       "      <th>total_images</th>\n",
       "      <th>last_price</th>\n",
       "      <th>total_area</th>\n",
       "      <th>rooms</th>\n",
       "      <th>ceiling_height</th>\n",
       "      <th>floors_total</th>\n",
       "      <th>living_area</th>\n",
       "      <th>floor</th>\n",
       "      <th>kitchen_area</th>\n",
       "      <th>balcony</th>\n",
       "      <th>airports_nearest</th>\n",
       "      <th>cityCenters_nearest</th>\n",
       "      <th>parks_around3000</th>\n",
       "      <th>parks_nearest</th>\n",
       "      <th>ponds_around3000</th>\n",
       "      <th>ponds_nearest</th>\n",
       "      <th>days_exposition</th>\n",
       "    </tr>\n",
       "  </thead>\n",
       "  <tbody>\n",
       "    <tr>\n",
       "      <td>count</td>\n",
       "      <td>23699.000000</td>\n",
       "      <td>2.369900e+04</td>\n",
       "      <td>23699.000000</td>\n",
       "      <td>23699.000000</td>\n",
       "      <td>14504.000000</td>\n",
       "      <td>23613.000000</td>\n",
       "      <td>21796.000000</td>\n",
       "      <td>23699.000000</td>\n",
       "      <td>21421.000000</td>\n",
       "      <td>12180.000000</td>\n",
       "      <td>18157.000000</td>\n",
       "      <td>18180.000000</td>\n",
       "      <td>18181.000000</td>\n",
       "      <td>8079.000000</td>\n",
       "      <td>18181.000000</td>\n",
       "      <td>9110.000000</td>\n",
       "      <td>20518.000000</td>\n",
       "    </tr>\n",
       "    <tr>\n",
       "      <td>mean</td>\n",
       "      <td>9.858475</td>\n",
       "      <td>6.541549e+06</td>\n",
       "      <td>60.348651</td>\n",
       "      <td>2.070636</td>\n",
       "      <td>2.771499</td>\n",
       "      <td>10.673824</td>\n",
       "      <td>34.457852</td>\n",
       "      <td>5.892358</td>\n",
       "      <td>10.569807</td>\n",
       "      <td>1.150082</td>\n",
       "      <td>28793.672193</td>\n",
       "      <td>14191.277833</td>\n",
       "      <td>0.611408</td>\n",
       "      <td>490.804555</td>\n",
       "      <td>0.770255</td>\n",
       "      <td>517.980900</td>\n",
       "      <td>180.888634</td>\n",
       "    </tr>\n",
       "    <tr>\n",
       "      <td>std</td>\n",
       "      <td>5.682529</td>\n",
       "      <td>1.088701e+07</td>\n",
       "      <td>35.654083</td>\n",
       "      <td>1.078405</td>\n",
       "      <td>1.261056</td>\n",
       "      <td>6.597173</td>\n",
       "      <td>22.030445</td>\n",
       "      <td>4.885249</td>\n",
       "      <td>5.905438</td>\n",
       "      <td>1.071300</td>\n",
       "      <td>12630.880622</td>\n",
       "      <td>8608.386210</td>\n",
       "      <td>0.802074</td>\n",
       "      <td>342.317995</td>\n",
       "      <td>0.938346</td>\n",
       "      <td>277.720643</td>\n",
       "      <td>219.727988</td>\n",
       "    </tr>\n",
       "    <tr>\n",
       "      <td>min</td>\n",
       "      <td>0.000000</td>\n",
       "      <td>1.219000e+04</td>\n",
       "      <td>12.000000</td>\n",
       "      <td>0.000000</td>\n",
       "      <td>1.000000</td>\n",
       "      <td>1.000000</td>\n",
       "      <td>2.000000</td>\n",
       "      <td>1.000000</td>\n",
       "      <td>1.300000</td>\n",
       "      <td>0.000000</td>\n",
       "      <td>0.000000</td>\n",
       "      <td>181.000000</td>\n",
       "      <td>0.000000</td>\n",
       "      <td>1.000000</td>\n",
       "      <td>0.000000</td>\n",
       "      <td>13.000000</td>\n",
       "      <td>1.000000</td>\n",
       "    </tr>\n",
       "    <tr>\n",
       "      <td>25%</td>\n",
       "      <td>6.000000</td>\n",
       "      <td>3.400000e+06</td>\n",
       "      <td>40.000000</td>\n",
       "      <td>1.000000</td>\n",
       "      <td>2.520000</td>\n",
       "      <td>5.000000</td>\n",
       "      <td>18.600000</td>\n",
       "      <td>2.000000</td>\n",
       "      <td>7.000000</td>\n",
       "      <td>0.000000</td>\n",
       "      <td>18585.000000</td>\n",
       "      <td>9238.000000</td>\n",
       "      <td>0.000000</td>\n",
       "      <td>288.000000</td>\n",
       "      <td>0.000000</td>\n",
       "      <td>294.000000</td>\n",
       "      <td>45.000000</td>\n",
       "    </tr>\n",
       "    <tr>\n",
       "      <td>50%</td>\n",
       "      <td>9.000000</td>\n",
       "      <td>4.650000e+06</td>\n",
       "      <td>52.000000</td>\n",
       "      <td>2.000000</td>\n",
       "      <td>2.650000</td>\n",
       "      <td>9.000000</td>\n",
       "      <td>30.000000</td>\n",
       "      <td>4.000000</td>\n",
       "      <td>9.100000</td>\n",
       "      <td>1.000000</td>\n",
       "      <td>26726.000000</td>\n",
       "      <td>13098.500000</td>\n",
       "      <td>0.000000</td>\n",
       "      <td>455.000000</td>\n",
       "      <td>1.000000</td>\n",
       "      <td>502.000000</td>\n",
       "      <td>95.000000</td>\n",
       "    </tr>\n",
       "    <tr>\n",
       "      <td>75%</td>\n",
       "      <td>14.000000</td>\n",
       "      <td>6.800000e+06</td>\n",
       "      <td>69.900000</td>\n",
       "      <td>3.000000</td>\n",
       "      <td>2.800000</td>\n",
       "      <td>16.000000</td>\n",
       "      <td>42.300000</td>\n",
       "      <td>8.000000</td>\n",
       "      <td>12.000000</td>\n",
       "      <td>2.000000</td>\n",
       "      <td>37273.000000</td>\n",
       "      <td>16293.000000</td>\n",
       "      <td>1.000000</td>\n",
       "      <td>612.000000</td>\n",
       "      <td>1.000000</td>\n",
       "      <td>729.000000</td>\n",
       "      <td>232.000000</td>\n",
       "    </tr>\n",
       "    <tr>\n",
       "      <td>max</td>\n",
       "      <td>50.000000</td>\n",
       "      <td>7.630000e+08</td>\n",
       "      <td>900.000000</td>\n",
       "      <td>19.000000</td>\n",
       "      <td>100.000000</td>\n",
       "      <td>60.000000</td>\n",
       "      <td>409.700000</td>\n",
       "      <td>33.000000</td>\n",
       "      <td>112.000000</td>\n",
       "      <td>5.000000</td>\n",
       "      <td>84869.000000</td>\n",
       "      <td>65968.000000</td>\n",
       "      <td>3.000000</td>\n",
       "      <td>3190.000000</td>\n",
       "      <td>3.000000</td>\n",
       "      <td>1344.000000</td>\n",
       "      <td>1580.000000</td>\n",
       "    </tr>\n",
       "  </tbody>\n",
       "</table>\n",
       "</div>"
      ],
      "text/plain": [
       "       total_images    last_price    total_area         rooms  ceiling_height  \\\n",
       "count  23699.000000  2.369900e+04  23699.000000  23699.000000    14504.000000   \n",
       "mean       9.858475  6.541549e+06     60.348651      2.070636        2.771499   \n",
       "std        5.682529  1.088701e+07     35.654083      1.078405        1.261056   \n",
       "min        0.000000  1.219000e+04     12.000000      0.000000        1.000000   \n",
       "25%        6.000000  3.400000e+06     40.000000      1.000000        2.520000   \n",
       "50%        9.000000  4.650000e+06     52.000000      2.000000        2.650000   \n",
       "75%       14.000000  6.800000e+06     69.900000      3.000000        2.800000   \n",
       "max       50.000000  7.630000e+08    900.000000     19.000000      100.000000   \n",
       "\n",
       "       floors_total   living_area         floor  kitchen_area       balcony  \\\n",
       "count  23613.000000  21796.000000  23699.000000  21421.000000  12180.000000   \n",
       "mean      10.673824     34.457852      5.892358     10.569807      1.150082   \n",
       "std        6.597173     22.030445      4.885249      5.905438      1.071300   \n",
       "min        1.000000      2.000000      1.000000      1.300000      0.000000   \n",
       "25%        5.000000     18.600000      2.000000      7.000000      0.000000   \n",
       "50%        9.000000     30.000000      4.000000      9.100000      1.000000   \n",
       "75%       16.000000     42.300000      8.000000     12.000000      2.000000   \n",
       "max       60.000000    409.700000     33.000000    112.000000      5.000000   \n",
       "\n",
       "       airports_nearest  cityCenters_nearest  parks_around3000  parks_nearest  \\\n",
       "count      18157.000000         18180.000000      18181.000000    8079.000000   \n",
       "mean       28793.672193         14191.277833          0.611408     490.804555   \n",
       "std        12630.880622          8608.386210          0.802074     342.317995   \n",
       "min            0.000000           181.000000          0.000000       1.000000   \n",
       "25%        18585.000000          9238.000000          0.000000     288.000000   \n",
       "50%        26726.000000         13098.500000          0.000000     455.000000   \n",
       "75%        37273.000000         16293.000000          1.000000     612.000000   \n",
       "max        84869.000000         65968.000000          3.000000    3190.000000   \n",
       "\n",
       "       ponds_around3000  ponds_nearest  days_exposition  \n",
       "count      18181.000000    9110.000000     20518.000000  \n",
       "mean           0.770255     517.980900       180.888634  \n",
       "std            0.938346     277.720643       219.727988  \n",
       "min            0.000000      13.000000         1.000000  \n",
       "25%            0.000000     294.000000        45.000000  \n",
       "50%            1.000000     502.000000        95.000000  \n",
       "75%            1.000000     729.000000       232.000000  \n",
       "max            3.000000    1344.000000      1580.000000  "
      ]
     },
     "execution_count": 3,
     "metadata": {},
     "output_type": "execute_result"
    }
   ],
   "source": [
    "de.describe() "
   ]
  },
  {
   "cell_type": "code",
   "execution_count": 4,
   "metadata": {},
   "outputs": [
    {
     "data": {
      "text/html": [
       "<div>\n",
       "<style scoped>\n",
       "    .dataframe tbody tr th:only-of-type {\n",
       "        vertical-align: middle;\n",
       "    }\n",
       "\n",
       "    .dataframe tbody tr th {\n",
       "        vertical-align: top;\n",
       "    }\n",
       "\n",
       "    .dataframe thead th {\n",
       "        text-align: right;\n",
       "    }\n",
       "</style>\n",
       "<table border=\"1\" class=\"dataframe\">\n",
       "  <thead>\n",
       "    <tr style=\"text-align: right;\">\n",
       "      <th></th>\n",
       "      <th>total_images</th>\n",
       "      <th>last_price</th>\n",
       "      <th>total_area</th>\n",
       "      <th>first_day_exposition</th>\n",
       "      <th>rooms</th>\n",
       "      <th>ceiling_height</th>\n",
       "      <th>floors_total</th>\n",
       "      <th>living_area</th>\n",
       "      <th>floor</th>\n",
       "      <th>is_apartment</th>\n",
       "      <th>...</th>\n",
       "      <th>kitchen_area</th>\n",
       "      <th>balcony</th>\n",
       "      <th>locality_name</th>\n",
       "      <th>airports_nearest</th>\n",
       "      <th>cityCenters_nearest</th>\n",
       "      <th>parks_around3000</th>\n",
       "      <th>parks_nearest</th>\n",
       "      <th>ponds_around3000</th>\n",
       "      <th>ponds_nearest</th>\n",
       "      <th>days_exposition</th>\n",
       "    </tr>\n",
       "  </thead>\n",
       "  <tbody>\n",
       "    <tr>\n",
       "      <td>0</td>\n",
       "      <td>20</td>\n",
       "      <td>13000000.0</td>\n",
       "      <td>108.00</td>\n",
       "      <td>2019-03-07T00:00:00</td>\n",
       "      <td>3</td>\n",
       "      <td>2.70</td>\n",
       "      <td>16.0</td>\n",
       "      <td>51.00</td>\n",
       "      <td>8</td>\n",
       "      <td>NaN</td>\n",
       "      <td>...</td>\n",
       "      <td>25.00</td>\n",
       "      <td>NaN</td>\n",
       "      <td>Санкт-Петербург</td>\n",
       "      <td>18863.0</td>\n",
       "      <td>16028.0</td>\n",
       "      <td>1.0</td>\n",
       "      <td>482.0</td>\n",
       "      <td>2.0</td>\n",
       "      <td>755.0</td>\n",
       "      <td>NaN</td>\n",
       "    </tr>\n",
       "    <tr>\n",
       "      <td>1</td>\n",
       "      <td>7</td>\n",
       "      <td>3350000.0</td>\n",
       "      <td>40.40</td>\n",
       "      <td>2018-12-04T00:00:00</td>\n",
       "      <td>1</td>\n",
       "      <td>NaN</td>\n",
       "      <td>11.0</td>\n",
       "      <td>18.60</td>\n",
       "      <td>1</td>\n",
       "      <td>NaN</td>\n",
       "      <td>...</td>\n",
       "      <td>11.00</td>\n",
       "      <td>2.0</td>\n",
       "      <td>посёлок Шушары</td>\n",
       "      <td>12817.0</td>\n",
       "      <td>18603.0</td>\n",
       "      <td>0.0</td>\n",
       "      <td>NaN</td>\n",
       "      <td>0.0</td>\n",
       "      <td>NaN</td>\n",
       "      <td>81.0</td>\n",
       "    </tr>\n",
       "    <tr>\n",
       "      <td>2</td>\n",
       "      <td>10</td>\n",
       "      <td>5196000.0</td>\n",
       "      <td>56.00</td>\n",
       "      <td>2015-08-20T00:00:00</td>\n",
       "      <td>2</td>\n",
       "      <td>NaN</td>\n",
       "      <td>5.0</td>\n",
       "      <td>34.30</td>\n",
       "      <td>4</td>\n",
       "      <td>NaN</td>\n",
       "      <td>...</td>\n",
       "      <td>8.30</td>\n",
       "      <td>0.0</td>\n",
       "      <td>Санкт-Петербург</td>\n",
       "      <td>21741.0</td>\n",
       "      <td>13933.0</td>\n",
       "      <td>1.0</td>\n",
       "      <td>90.0</td>\n",
       "      <td>2.0</td>\n",
       "      <td>574.0</td>\n",
       "      <td>558.0</td>\n",
       "    </tr>\n",
       "    <tr>\n",
       "      <td>3</td>\n",
       "      <td>0</td>\n",
       "      <td>64900000.0</td>\n",
       "      <td>159.00</td>\n",
       "      <td>2015-07-24T00:00:00</td>\n",
       "      <td>3</td>\n",
       "      <td>NaN</td>\n",
       "      <td>14.0</td>\n",
       "      <td>NaN</td>\n",
       "      <td>9</td>\n",
       "      <td>NaN</td>\n",
       "      <td>...</td>\n",
       "      <td>NaN</td>\n",
       "      <td>0.0</td>\n",
       "      <td>Санкт-Петербург</td>\n",
       "      <td>28098.0</td>\n",
       "      <td>6800.0</td>\n",
       "      <td>2.0</td>\n",
       "      <td>84.0</td>\n",
       "      <td>3.0</td>\n",
       "      <td>234.0</td>\n",
       "      <td>424.0</td>\n",
       "    </tr>\n",
       "    <tr>\n",
       "      <td>4</td>\n",
       "      <td>2</td>\n",
       "      <td>10000000.0</td>\n",
       "      <td>100.00</td>\n",
       "      <td>2018-06-19T00:00:00</td>\n",
       "      <td>2</td>\n",
       "      <td>3.03</td>\n",
       "      <td>14.0</td>\n",
       "      <td>32.00</td>\n",
       "      <td>13</td>\n",
       "      <td>NaN</td>\n",
       "      <td>...</td>\n",
       "      <td>41.00</td>\n",
       "      <td>NaN</td>\n",
       "      <td>Санкт-Петербург</td>\n",
       "      <td>31856.0</td>\n",
       "      <td>8098.0</td>\n",
       "      <td>2.0</td>\n",
       "      <td>112.0</td>\n",
       "      <td>1.0</td>\n",
       "      <td>48.0</td>\n",
       "      <td>121.0</td>\n",
       "    </tr>\n",
       "    <tr>\n",
       "      <td>5</td>\n",
       "      <td>10</td>\n",
       "      <td>2890000.0</td>\n",
       "      <td>30.40</td>\n",
       "      <td>2018-09-10T00:00:00</td>\n",
       "      <td>1</td>\n",
       "      <td>NaN</td>\n",
       "      <td>12.0</td>\n",
       "      <td>14.40</td>\n",
       "      <td>5</td>\n",
       "      <td>NaN</td>\n",
       "      <td>...</td>\n",
       "      <td>9.10</td>\n",
       "      <td>NaN</td>\n",
       "      <td>городской посёлок Янино-1</td>\n",
       "      <td>NaN</td>\n",
       "      <td>NaN</td>\n",
       "      <td>NaN</td>\n",
       "      <td>NaN</td>\n",
       "      <td>NaN</td>\n",
       "      <td>NaN</td>\n",
       "      <td>55.0</td>\n",
       "    </tr>\n",
       "    <tr>\n",
       "      <td>6</td>\n",
       "      <td>6</td>\n",
       "      <td>3700000.0</td>\n",
       "      <td>37.30</td>\n",
       "      <td>2017-11-02T00:00:00</td>\n",
       "      <td>1</td>\n",
       "      <td>NaN</td>\n",
       "      <td>26.0</td>\n",
       "      <td>10.60</td>\n",
       "      <td>6</td>\n",
       "      <td>NaN</td>\n",
       "      <td>...</td>\n",
       "      <td>14.40</td>\n",
       "      <td>1.0</td>\n",
       "      <td>посёлок Парголово</td>\n",
       "      <td>52996.0</td>\n",
       "      <td>19143.0</td>\n",
       "      <td>0.0</td>\n",
       "      <td>NaN</td>\n",
       "      <td>0.0</td>\n",
       "      <td>NaN</td>\n",
       "      <td>155.0</td>\n",
       "    </tr>\n",
       "    <tr>\n",
       "      <td>7</td>\n",
       "      <td>5</td>\n",
       "      <td>7915000.0</td>\n",
       "      <td>71.60</td>\n",
       "      <td>2019-04-18T00:00:00</td>\n",
       "      <td>2</td>\n",
       "      <td>NaN</td>\n",
       "      <td>24.0</td>\n",
       "      <td>NaN</td>\n",
       "      <td>22</td>\n",
       "      <td>NaN</td>\n",
       "      <td>...</td>\n",
       "      <td>18.90</td>\n",
       "      <td>2.0</td>\n",
       "      <td>Санкт-Петербург</td>\n",
       "      <td>23982.0</td>\n",
       "      <td>11634.0</td>\n",
       "      <td>0.0</td>\n",
       "      <td>NaN</td>\n",
       "      <td>0.0</td>\n",
       "      <td>NaN</td>\n",
       "      <td>NaN</td>\n",
       "    </tr>\n",
       "    <tr>\n",
       "      <td>8</td>\n",
       "      <td>20</td>\n",
       "      <td>2900000.0</td>\n",
       "      <td>33.16</td>\n",
       "      <td>2018-05-23T00:00:00</td>\n",
       "      <td>1</td>\n",
       "      <td>NaN</td>\n",
       "      <td>27.0</td>\n",
       "      <td>15.43</td>\n",
       "      <td>26</td>\n",
       "      <td>NaN</td>\n",
       "      <td>...</td>\n",
       "      <td>8.81</td>\n",
       "      <td>NaN</td>\n",
       "      <td>посёлок Мурино</td>\n",
       "      <td>NaN</td>\n",
       "      <td>NaN</td>\n",
       "      <td>NaN</td>\n",
       "      <td>NaN</td>\n",
       "      <td>NaN</td>\n",
       "      <td>NaN</td>\n",
       "      <td>189.0</td>\n",
       "    </tr>\n",
       "    <tr>\n",
       "      <td>9</td>\n",
       "      <td>18</td>\n",
       "      <td>5400000.0</td>\n",
       "      <td>61.00</td>\n",
       "      <td>2017-02-26T00:00:00</td>\n",
       "      <td>3</td>\n",
       "      <td>2.50</td>\n",
       "      <td>9.0</td>\n",
       "      <td>43.60</td>\n",
       "      <td>7</td>\n",
       "      <td>NaN</td>\n",
       "      <td>...</td>\n",
       "      <td>6.50</td>\n",
       "      <td>2.0</td>\n",
       "      <td>Санкт-Петербург</td>\n",
       "      <td>50898.0</td>\n",
       "      <td>15008.0</td>\n",
       "      <td>0.0</td>\n",
       "      <td>NaN</td>\n",
       "      <td>0.0</td>\n",
       "      <td>NaN</td>\n",
       "      <td>289.0</td>\n",
       "    </tr>\n",
       "    <tr>\n",
       "      <td>10</td>\n",
       "      <td>5</td>\n",
       "      <td>5050000.0</td>\n",
       "      <td>39.60</td>\n",
       "      <td>2017-11-16T00:00:00</td>\n",
       "      <td>1</td>\n",
       "      <td>2.67</td>\n",
       "      <td>12.0</td>\n",
       "      <td>20.30</td>\n",
       "      <td>3</td>\n",
       "      <td>NaN</td>\n",
       "      <td>...</td>\n",
       "      <td>8.50</td>\n",
       "      <td>NaN</td>\n",
       "      <td>Санкт-Петербург</td>\n",
       "      <td>38357.0</td>\n",
       "      <td>13878.0</td>\n",
       "      <td>1.0</td>\n",
       "      <td>310.0</td>\n",
       "      <td>2.0</td>\n",
       "      <td>553.0</td>\n",
       "      <td>137.0</td>\n",
       "    </tr>\n",
       "    <tr>\n",
       "      <td>11</td>\n",
       "      <td>9</td>\n",
       "      <td>3300000.0</td>\n",
       "      <td>44.00</td>\n",
       "      <td>2018-08-27T00:00:00</td>\n",
       "      <td>2</td>\n",
       "      <td>NaN</td>\n",
       "      <td>5.0</td>\n",
       "      <td>31.00</td>\n",
       "      <td>4</td>\n",
       "      <td>False</td>\n",
       "      <td>...</td>\n",
       "      <td>6.00</td>\n",
       "      <td>1.0</td>\n",
       "      <td>Ломоносов</td>\n",
       "      <td>48252.0</td>\n",
       "      <td>51677.0</td>\n",
       "      <td>0.0</td>\n",
       "      <td>NaN</td>\n",
       "      <td>0.0</td>\n",
       "      <td>NaN</td>\n",
       "      <td>7.0</td>\n",
       "    </tr>\n",
       "    <tr>\n",
       "      <td>12</td>\n",
       "      <td>10</td>\n",
       "      <td>3890000.0</td>\n",
       "      <td>54.00</td>\n",
       "      <td>2016-06-30T00:00:00</td>\n",
       "      <td>2</td>\n",
       "      <td>NaN</td>\n",
       "      <td>5.0</td>\n",
       "      <td>30.00</td>\n",
       "      <td>5</td>\n",
       "      <td>NaN</td>\n",
       "      <td>...</td>\n",
       "      <td>9.00</td>\n",
       "      <td>0.0</td>\n",
       "      <td>Сертолово</td>\n",
       "      <td>NaN</td>\n",
       "      <td>NaN</td>\n",
       "      <td>NaN</td>\n",
       "      <td>NaN</td>\n",
       "      <td>NaN</td>\n",
       "      <td>NaN</td>\n",
       "      <td>90.0</td>\n",
       "    </tr>\n",
       "    <tr>\n",
       "      <td>13</td>\n",
       "      <td>20</td>\n",
       "      <td>3550000.0</td>\n",
       "      <td>42.80</td>\n",
       "      <td>2017-07-01T00:00:00</td>\n",
       "      <td>2</td>\n",
       "      <td>2.56</td>\n",
       "      <td>5.0</td>\n",
       "      <td>27.00</td>\n",
       "      <td>5</td>\n",
       "      <td>NaN</td>\n",
       "      <td>...</td>\n",
       "      <td>5.20</td>\n",
       "      <td>1.0</td>\n",
       "      <td>Петергоф</td>\n",
       "      <td>37868.0</td>\n",
       "      <td>33058.0</td>\n",
       "      <td>1.0</td>\n",
       "      <td>294.0</td>\n",
       "      <td>3.0</td>\n",
       "      <td>298.0</td>\n",
       "      <td>366.0</td>\n",
       "    </tr>\n",
       "    <tr>\n",
       "      <td>14</td>\n",
       "      <td>1</td>\n",
       "      <td>4400000.0</td>\n",
       "      <td>36.00</td>\n",
       "      <td>2016-06-23T00:00:00</td>\n",
       "      <td>1</td>\n",
       "      <td>NaN</td>\n",
       "      <td>6.0</td>\n",
       "      <td>17.00</td>\n",
       "      <td>1</td>\n",
       "      <td>NaN</td>\n",
       "      <td>...</td>\n",
       "      <td>8.00</td>\n",
       "      <td>0.0</td>\n",
       "      <td>Пушкин</td>\n",
       "      <td>20782.0</td>\n",
       "      <td>30759.0</td>\n",
       "      <td>0.0</td>\n",
       "      <td>NaN</td>\n",
       "      <td>1.0</td>\n",
       "      <td>96.0</td>\n",
       "      <td>203.0</td>\n",
       "    </tr>\n",
       "  </tbody>\n",
       "</table>\n",
       "<p>15 rows × 22 columns</p>\n",
       "</div>"
      ],
      "text/plain": [
       "    total_images  last_price  total_area first_day_exposition  rooms  \\\n",
       "0             20  13000000.0      108.00  2019-03-07T00:00:00      3   \n",
       "1              7   3350000.0       40.40  2018-12-04T00:00:00      1   \n",
       "2             10   5196000.0       56.00  2015-08-20T00:00:00      2   \n",
       "3              0  64900000.0      159.00  2015-07-24T00:00:00      3   \n",
       "4              2  10000000.0      100.00  2018-06-19T00:00:00      2   \n",
       "5             10   2890000.0       30.40  2018-09-10T00:00:00      1   \n",
       "6              6   3700000.0       37.30  2017-11-02T00:00:00      1   \n",
       "7              5   7915000.0       71.60  2019-04-18T00:00:00      2   \n",
       "8             20   2900000.0       33.16  2018-05-23T00:00:00      1   \n",
       "9             18   5400000.0       61.00  2017-02-26T00:00:00      3   \n",
       "10             5   5050000.0       39.60  2017-11-16T00:00:00      1   \n",
       "11             9   3300000.0       44.00  2018-08-27T00:00:00      2   \n",
       "12            10   3890000.0       54.00  2016-06-30T00:00:00      2   \n",
       "13            20   3550000.0       42.80  2017-07-01T00:00:00      2   \n",
       "14             1   4400000.0       36.00  2016-06-23T00:00:00      1   \n",
       "\n",
       "    ceiling_height  floors_total  living_area  floor is_apartment  ...  \\\n",
       "0             2.70          16.0        51.00      8          NaN  ...   \n",
       "1              NaN          11.0        18.60      1          NaN  ...   \n",
       "2              NaN           5.0        34.30      4          NaN  ...   \n",
       "3              NaN          14.0          NaN      9          NaN  ...   \n",
       "4             3.03          14.0        32.00     13          NaN  ...   \n",
       "5              NaN          12.0        14.40      5          NaN  ...   \n",
       "6              NaN          26.0        10.60      6          NaN  ...   \n",
       "7              NaN          24.0          NaN     22          NaN  ...   \n",
       "8              NaN          27.0        15.43     26          NaN  ...   \n",
       "9             2.50           9.0        43.60      7          NaN  ...   \n",
       "10            2.67          12.0        20.30      3          NaN  ...   \n",
       "11             NaN           5.0        31.00      4        False  ...   \n",
       "12             NaN           5.0        30.00      5          NaN  ...   \n",
       "13            2.56           5.0        27.00      5          NaN  ...   \n",
       "14             NaN           6.0        17.00      1          NaN  ...   \n",
       "\n",
       "    kitchen_area  balcony              locality_name  airports_nearest  \\\n",
       "0          25.00      NaN            Санкт-Петербург           18863.0   \n",
       "1          11.00      2.0             посёлок Шушары           12817.0   \n",
       "2           8.30      0.0            Санкт-Петербург           21741.0   \n",
       "3            NaN      0.0            Санкт-Петербург           28098.0   \n",
       "4          41.00      NaN            Санкт-Петербург           31856.0   \n",
       "5           9.10      NaN  городской посёлок Янино-1               NaN   \n",
       "6          14.40      1.0          посёлок Парголово           52996.0   \n",
       "7          18.90      2.0            Санкт-Петербург           23982.0   \n",
       "8           8.81      NaN             посёлок Мурино               NaN   \n",
       "9           6.50      2.0            Санкт-Петербург           50898.0   \n",
       "10          8.50      NaN            Санкт-Петербург           38357.0   \n",
       "11          6.00      1.0                  Ломоносов           48252.0   \n",
       "12          9.00      0.0                  Сертолово               NaN   \n",
       "13          5.20      1.0                   Петергоф           37868.0   \n",
       "14          8.00      0.0                     Пушкин           20782.0   \n",
       "\n",
       "   cityCenters_nearest  parks_around3000  parks_nearest  ponds_around3000  \\\n",
       "0              16028.0               1.0          482.0               2.0   \n",
       "1              18603.0               0.0            NaN               0.0   \n",
       "2              13933.0               1.0           90.0               2.0   \n",
       "3               6800.0               2.0           84.0               3.0   \n",
       "4               8098.0               2.0          112.0               1.0   \n",
       "5                  NaN               NaN            NaN               NaN   \n",
       "6              19143.0               0.0            NaN               0.0   \n",
       "7              11634.0               0.0            NaN               0.0   \n",
       "8                  NaN               NaN            NaN               NaN   \n",
       "9              15008.0               0.0            NaN               0.0   \n",
       "10             13878.0               1.0          310.0               2.0   \n",
       "11             51677.0               0.0            NaN               0.0   \n",
       "12                 NaN               NaN            NaN               NaN   \n",
       "13             33058.0               1.0          294.0               3.0   \n",
       "14             30759.0               0.0            NaN               1.0   \n",
       "\n",
       "    ponds_nearest  days_exposition  \n",
       "0           755.0              NaN  \n",
       "1             NaN             81.0  \n",
       "2           574.0            558.0  \n",
       "3           234.0            424.0  \n",
       "4            48.0            121.0  \n",
       "5             NaN             55.0  \n",
       "6             NaN            155.0  \n",
       "7             NaN              NaN  \n",
       "8             NaN            189.0  \n",
       "9             NaN            289.0  \n",
       "10          553.0            137.0  \n",
       "11            NaN              7.0  \n",
       "12            NaN             90.0  \n",
       "13          298.0            366.0  \n",
       "14           96.0            203.0  \n",
       "\n",
       "[15 rows x 22 columns]"
      ]
     },
     "execution_count": 4,
     "metadata": {},
     "output_type": "execute_result"
    }
   ],
   "source": [
    "de.head(15)"
   ]
  },
  {
   "cell_type": "markdown",
   "metadata": {},
   "source": [
    "### Вывод"
   ]
  },
  {
   "cell_type": "markdown",
   "metadata": {},
   "source": [
    "Что же нам видно о наших данных с первого взгляда? :)\n",
    "     \n",
    "     1) почти везде используются неправильные или неудобные типы данных нужно заменить object на bool, а float на int и т.д.\n",
    "     2) много пропусков, но зачастую они важны, как напрмер в столбце is_apartment - там явно NaN = False\n",
    "   "
   ]
  },
  {
   "cell_type": "markdown",
   "metadata": {},
   "source": [
    "### Шаг 2. Предобработка данных"
   ]
  },
  {
   "cell_type": "code",
   "execution_count": 5,
   "metadata": {},
   "outputs": [
    {
     "data": {
      "text/plain": [
       "total_images                0\n",
       "last_price                  0\n",
       "total_area                  0\n",
       "first_day_exposition        0\n",
       "rooms                       0\n",
       "ceiling_height           9195\n",
       "floors_total               86\n",
       "living_area              1903\n",
       "floor                       0\n",
       "is_apartment            20924\n",
       "studio                      0\n",
       "open_plan                   0\n",
       "kitchen_area             2278\n",
       "balcony                 11519\n",
       "locality_name              49\n",
       "airports_nearest         5542\n",
       "cityCenters_nearest      5519\n",
       "parks_around3000         5518\n",
       "parks_nearest           15620\n",
       "ponds_around3000         5518\n",
       "ponds_nearest           14589\n",
       "days_exposition          3181\n",
       "dtype: int64"
      ]
     },
     "execution_count": 5,
     "metadata": {},
     "output_type": "execute_result"
    }
   ],
   "source": [
    "#посмотрим общее кол-во пропусков\n",
    "de.isna().sum()"
   ]
  },
  {
   "cell_type": "markdown",
   "metadata": {},
   "source": [
    "#### Для удобства и наглядности, будем по порядку менять тип и избавляться от пропусков"
   ]
  },
  {
   "cell_type": "markdown",
   "metadata": {},
   "source": [
    "Высота потоков вряд ли может быть нулевой, но явных причин почему значения пропущенны не видно\n",
    "\n",
    "  \n",
    "  Выбросить все эти значения тоже нелья - слишком их много, поэтому пока оставим все как есть "
   ]
  },
  {
   "cell_type": "code",
   "execution_count": 6,
   "metadata": {
    "scrolled": true
   },
   "outputs": [
    {
     "data": {
      "text/plain": [
       "count    14504.000000\n",
       "mean         2.771499\n",
       "std          1.261056\n",
       "min          1.000000\n",
       "25%          2.520000\n",
       "50%          2.650000\n",
       "75%          2.800000\n",
       "max        100.000000\n",
       "Name: ceiling_height, dtype: float64"
      ]
     },
     "execution_count": 6,
     "metadata": {},
     "output_type": "execute_result"
    }
   ],
   "source": [
    "de['ceiling_height'].describe()"
   ]
  },
  {
   "cell_type": "markdown",
   "metadata": {},
   "source": [
    "Имеем несколько пропущенных значений, заполним их, а у столбца заменим тип на int"
   ]
  },
  {
   "cell_type": "code",
   "execution_count": 7,
   "metadata": {},
   "outputs": [
    {
     "data": {
      "text/plain": [
       "86"
      ]
     },
     "execution_count": 7,
     "metadata": {},
     "output_type": "execute_result"
    }
   ],
   "source": [
    "de['floors_total'].isna().sum()"
   ]
  },
  {
   "cell_type": "markdown",
   "metadata": {},
   "source": [
    "### Обработаем столбец *living_area* - жилую площадь"
   ]
  },
  {
   "cell_type": "code",
   "execution_count": 8,
   "metadata": {
    "scrolled": true
   },
   "outputs": [
    {
     "data": {
      "text/plain": [
       "count    21796.000000\n",
       "mean        34.457852\n",
       "std         22.030445\n",
       "min          2.000000\n",
       "25%         18.600000\n",
       "50%         30.000000\n",
       "75%         42.300000\n",
       "max        409.700000\n",
       "Name: living_area, dtype: float64"
      ]
     },
     "execution_count": 8,
     "metadata": {},
     "output_type": "execute_result"
    }
   ],
   "source": [
    "de['living_area'].describe()"
   ]
  },
  {
   "cell_type": "code",
   "execution_count": 9,
   "metadata": {},
   "outputs": [
    {
     "data": {
      "text/plain": [
       "1903"
      ]
     },
     "execution_count": 9,
     "metadata": {},
     "output_type": "execute_result"
    }
   ],
   "source": [
    "de['living_area'].isna().sum()"
   ]
  },
  {
   "cell_type": "code",
   "execution_count": 10,
   "metadata": {},
   "outputs": [
    {
     "data": {
      "text/plain": [
       "1903"
      ]
     },
     "execution_count": 10,
     "metadata": {},
     "output_type": "execute_result"
    }
   ],
   "source": [
    "de['living_area'] = de['living_area'].dropna()\n",
    "de['living_area'].isna().sum()"
   ]
  },
  {
   "cell_type": "markdown",
   "metadata": {},
   "source": [
    "### Апартаменты\n",
    "В is_apartment меняем NaN на False, object на bool"
   ]
  },
  {
   "cell_type": "code",
   "execution_count": 11,
   "metadata": {},
   "outputs": [],
   "source": [
    "de['is_apartment'] = de['is_apartment'].fillna(False).astype('bool')"
   ]
  },
  {
   "cell_type": "markdown",
   "metadata": {},
   "source": [
    "### Кухня"
   ]
  },
  {
   "cell_type": "code",
   "execution_count": 12,
   "metadata": {},
   "outputs": [
    {
     "data": {
      "text/plain": [
       "count    21421.000000\n",
       "mean        10.569807\n",
       "std          5.905438\n",
       "min          1.300000\n",
       "25%          7.000000\n",
       "50%          9.100000\n",
       "75%         12.000000\n",
       "max        112.000000\n",
       "Name: kitchen_area, dtype: float64"
      ]
     },
     "execution_count": 12,
     "metadata": {},
     "output_type": "execute_result"
    }
   ],
   "source": [
    "#много пропусков - причина не ясна, трогать не будем\n",
    "de['kitchen_area'].describe()"
   ]
  },
  {
   "cell_type": "markdown",
   "metadata": {},
   "source": [
    "### Исправляем балконы\n"
   ]
  },
  {
   "cell_type": "code",
   "execution_count": 13,
   "metadata": {},
   "outputs": [],
   "source": [
    "de['balcony'] = de['balcony'].fillna(0).astype('int')"
   ]
  },
  {
   "cell_type": "markdown",
   "metadata": {},
   "source": [
    "### Локация объекта"
   ]
  },
  {
   "cell_type": "code",
   "execution_count": 14,
   "metadata": {},
   "outputs": [
    {
     "data": {
      "text/plain": [
       "count               23650\n",
       "unique                364\n",
       "top       Санкт-Петербург\n",
       "freq                15721\n",
       "Name: locality_name, dtype: object"
      ]
     },
     "execution_count": 14,
     "metadata": {},
     "output_type": "execute_result"
    }
   ],
   "source": [
    "# в locality_name причина пропуска не ясна - не трогаем\n",
    "de['locality_name'].describe()"
   ]
  },
  {
   "cell_type": "markdown",
   "metadata": {},
   "source": [
    " За не имением лучшего варианта оставляем *airports_nearest*, *parks_nearest* и *ponds_nearest* как *NaN*\n",
    " \n",
    "  а вот значения *ponds_around3000* и *parks_around3000* поправим"
   ]
  },
  {
   "cell_type": "code",
   "execution_count": 15,
   "metadata": {},
   "outputs": [],
   "source": [
    "de['ponds_around3000'] = de['ponds_around3000'].fillna(0).astype('int')\n",
    "de['parks_around3000'] = de['parks_around3000'].fillna(0).astype('int')"
   ]
  },
  {
   "cell_type": "code",
   "execution_count": 16,
   "metadata": {},
   "outputs": [
    {
     "data": {
      "text/plain": [
       "3181"
      ]
     },
     "execution_count": 16,
     "metadata": {},
     "output_type": "execute_result"
    }
   ],
   "source": [
    "de['days_exposition'].isna().sum()"
   ]
  },
  {
   "cell_type": "markdown",
   "metadata": {},
   "source": [
    "### Исправляем дату "
   ]
  },
  {
   "cell_type": "code",
   "execution_count": 17,
   "metadata": {},
   "outputs": [],
   "source": [
    "# переведем время в читаемый формат\n",
    "de['first_day_exposition'] = pd.to_datetime(de['first_day_exposition'], format = '%Y-%m-%d')"
   ]
  },
  {
   "cell_type": "markdown",
   "metadata": {},
   "source": [
    "### Вывод\n",
    "\n",
    "   \n",
    " Большое количество данных не включенно в фаил, но кажется, что это не так критично.\n",
    "   \n",
    " Мы заполнили все важны для нас пропуски, если возникнут проблемы с составлением гипотез и выводов, то будем отрезать пустые куски данных\n",
    "   \n",
    " Потерять часть данных - лучше чем сделать заведомо неверный вывод :)"
   ]
  },
  {
   "cell_type": "markdown",
   "metadata": {},
   "source": [
    "### Шаг 3. Посчитайте и добавьте в таблицу"
   ]
  },
  {
   "cell_type": "markdown",
   "metadata": {},
   "source": [
    "Теперь добавим в таблицу: \n",
    "\n",
    "  1) цену квадратного метра\n",
    "  \n",
    "  2) день недели, месяц и год публикации объявления\n",
    "  \n",
    "  3) этаж квартиры; варианты — первый, последний, другой\n",
    "  \n",
    "  4) соотношение жилой и общей площади, а также отношение площади кухни к общей"
   ]
  },
  {
   "cell_type": "code",
   "execution_count": 18,
   "metadata": {},
   "outputs": [],
   "source": [
    "# соотношение общей площади к кухне и жилой\n",
    "\n",
    "de['living_to_total'] = de['living_area'] / de['total_area']\n",
    "de['kitchen_to_total'] = de['kitchen_area'] / de['total_area']"
   ]
  },
  {
   "cell_type": "code",
   "execution_count": 19,
   "metadata": {},
   "outputs": [
    {
     "data": {
      "text/plain": [
       "count    21796.000000\n",
       "mean         0.564766\n",
       "std          0.105368\n",
       "min          0.021583\n",
       "25%          0.495177\n",
       "50%          0.567860\n",
       "75%          0.637880\n",
       "max          1.000000\n",
       "Name: living_to_total, dtype: float64"
      ]
     },
     "execution_count": 19,
     "metadata": {},
     "output_type": "execute_result"
    }
   ],
   "source": [
    "# проверям\n",
    "#de.tail(15).sort_values('living_to_total', ascending=False)\n",
    "de['living_to_total'].describe()"
   ]
  },
  {
   "cell_type": "code",
   "execution_count": 20,
   "metadata": {},
   "outputs": [
    {
     "data": {
      "text/plain": [
       "0"
      ]
     },
     "execution_count": 20,
     "metadata": {},
     "output_type": "execute_result"
    }
   ],
   "source": [
    "de['living_area'] = de['living_area'].fillna(de['total_area'] * 0.56) \n",
    "de['living_area'].isna().sum()"
   ]
  },
  {
   "cell_type": "code",
   "execution_count": 21,
   "metadata": {},
   "outputs": [],
   "source": [
    "# посчитаем и приведем к int для удобства\n",
    "de['price_per_m'] = de['last_price'] / de['total_area']\n",
    "de['price_per_m'] = de['price_per_m'].astype('int')"
   ]
  },
  {
   "cell_type": "code",
   "execution_count": 22,
   "metadata": {},
   "outputs": [],
   "source": [
    "# exp - exposition\n",
    "de['week_exp'] = de['first_day_exposition'].dt.weekday\n",
    "de['month_exp'] = de['first_day_exposition'].dt.month\n",
    "de['year_exp'] = de['first_day_exposition'].dt.year"
   ]
  },
  {
   "cell_type": "code",
   "execution_count": 23,
   "metadata": {},
   "outputs": [],
   "source": [
    "#напишем функцию по категоризации этажей\n",
    "def floor_category(row):\n",
    "    floors_total = row['floors_total']\n",
    "    floor = row['floor']\n",
    "    if floor == 1:\n",
    "        return 'первый'\n",
    "    elif floor == floors_total:\n",
    "        return 'последний'\n",
    "    elif floor == (floors_total / 2):\n",
    "        return 'средний'\n",
    "    elif (floors_total / 2) < floor < floors_total:\n",
    "        return 'высокий'\n",
    "    elif 1<floor<(floors_total / 2):\n",
    "        return 'низкий'\n",
    "    return 'другой'\n",
    "de['floor_category'] = de.apply(floor_category, axis = 1)"
   ]
  },
  {
   "cell_type": "markdown",
   "metadata": {},
   "source": [
    "### Вывод\n",
    "\n",
    "   Мы добавили новые полезные, для нас, столбцы данных и и теперь можем переходить к построению графиков и анализу"
   ]
  },
  {
   "cell_type": "markdown",
   "metadata": {},
   "source": [
    "### Шаг 4. Проведите исследовательский анализ данных и выполните инструкции:"
   ]
  },
  {
   "cell_type": "markdown",
   "metadata": {},
   "source": [
    "#### 1) изучить параметры:\n",
    "\n",
    "   а) Площадь\n",
    "   \n",
    "   б) цена\n",
    "   \n",
    "   в) кол-во комнат\n",
    "   \n",
    "   г) высота потолков"
   ]
  },
  {
   "cell_type": "markdown",
   "metadata": {},
   "source": [
    "### Площадь"
   ]
  },
  {
   "cell_type": "code",
   "execution_count": 24,
   "metadata": {},
   "outputs": [
    {
     "data": {
      "text/plain": [
       "count    23699.000000\n",
       "mean        60.348651\n",
       "std         35.654083\n",
       "min         12.000000\n",
       "25%         40.000000\n",
       "50%         52.000000\n",
       "75%         69.900000\n",
       "max        900.000000\n",
       "Name: total_area, dtype: float64"
      ]
     },
     "execution_count": 24,
     "metadata": {},
     "output_type": "execute_result"
    },
    {
     "data": {
      "image/png": "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\n",
      "text/plain": [
       "<Figure size 720x360 with 1 Axes>"
      ]
     },
     "metadata": {
      "needs_background": "light"
     },
     "output_type": "display_data"
    }
   ],
   "source": [
    "de.plot(y='total_area', kind='hist', bins=100, grid=True, figsize = (10,5), range = (0, 500))\n",
    "de['total_area'].describe()"
   ]
  },
  {
   "cell_type": "markdown",
   "metadata": {},
   "source": [
    "Распределения похоже на Пуассоновское, то есть, подавляющее число квартир имеют площадь до 70 метро"
   ]
  },
  {
   "cell_type": "markdown",
   "metadata": {},
   "source": [
    "### Цена"
   ]
  },
  {
   "cell_type": "code",
   "execution_count": 25,
   "metadata": {
    "scrolled": false
   },
   "outputs": [
    {
     "data": {
      "text/plain": [
       "count    2.369900e+04\n",
       "mean     6.541549e+06\n",
       "std      1.088701e+07\n",
       "min      1.219000e+04\n",
       "25%      3.400000e+06\n",
       "50%      4.650000e+06\n",
       "75%      6.800000e+06\n",
       "max      7.630000e+08\n",
       "Name: last_price, dtype: float64"
      ]
     },
     "execution_count": 25,
     "metadata": {},
     "output_type": "execute_result"
    },
    {
     "data": {
      "image/png": "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\n",
      "text/plain": [
       "<Figure size 720x360 with 1 Axes>"
      ]
     },
     "metadata": {
      "needs_background": "light"
     },
     "output_type": "display_data"
    }
   ],
   "source": [
    "de.plot(y='last_price', kind='hist', bins=100, grid=True, figsize = (10,5), range = (0, 20000000))\n",
    "de['last_price'].describe()"
   ]
  },
  {
   "cell_type": "markdown",
   "metadata": {},
   "source": [
    "Явных аномалий не наблюдается, нормальное распределение"
   ]
  },
  {
   "cell_type": "markdown",
   "metadata": {},
   "source": [
    "### Количество комнат"
   ]
  },
  {
   "cell_type": "code",
   "execution_count": 26,
   "metadata": {},
   "outputs": [
    {
     "data": {
      "text/plain": [
       "count    23699.000000\n",
       "mean         2.070636\n",
       "std          1.078405\n",
       "min          0.000000\n",
       "25%          1.000000\n",
       "50%          2.000000\n",
       "75%          3.000000\n",
       "max         19.000000\n",
       "Name: rooms, dtype: float64"
      ]
     },
     "execution_count": 26,
     "metadata": {},
     "output_type": "execute_result"
    },
    {
     "data": {
      "image/png": "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\n",
      "text/plain": [
       "<Figure size 720x360 with 1 Axes>"
      ]
     },
     "metadata": {
      "needs_background": "light"
     },
     "output_type": "display_data"
    }
   ],
   "source": [
    "de.plot(y='rooms', kind='hist', bins=100, grid=True, figsize = (10,5), range = (0, 10))\n",
    "de['rooms'].describe()"
   ]
  },
  {
   "cell_type": "markdown",
   "metadata": {},
   "source": [
    "Имеются несколько квартир с указанием *0* комнат, возможно в выборку попали нежилые помещения,\n",
    "\n",
    "  либо так обозначили некоторые квартиры - студии. Видим распределение Пуассона "
   ]
  },
  {
   "cell_type": "markdown",
   "metadata": {},
   "source": [
    "### Высота потолков"
   ]
  },
  {
   "cell_type": "code",
   "execution_count": 27,
   "metadata": {
    "scrolled": true
   },
   "outputs": [
    {
     "data": {
      "text/plain": [
       "count    14504.000000\n",
       "mean         2.771499\n",
       "std          1.261056\n",
       "min          1.000000\n",
       "25%          2.520000\n",
       "50%          2.650000\n",
       "75%          2.800000\n",
       "max        100.000000\n",
       "Name: ceiling_height, dtype: float64"
      ]
     },
     "execution_count": 27,
     "metadata": {},
     "output_type": "execute_result"
    },
    {
     "data": {
      "image/png": "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\n",
      "text/plain": [
       "<Figure size 720x360 with 1 Axes>"
      ]
     },
     "metadata": {
      "needs_background": "light"
     },
     "output_type": "display_data"
    }
   ],
   "source": [
    "de.plot(y='ceiling_height', kind='hist', bins=100, grid=True, figsize = (10,5), range = (0, 10))\n",
    "de['ceiling_height'].describe()"
   ]
  },
  {
   "cell_type": "markdown",
   "metadata": {},
   "source": [
    "Распределение Пуассона, аномалий тоже кажется нет, большинство квартир имеют потолка 2.5-3 метра"
   ]
  },
  {
   "cell_type": "markdown",
   "metadata": {},
   "source": [
    "#### 2) Изучите время продажи квартиры. Постройте гистограмму. Посчитайте среднее и медиану. Опишите, сколько обычно занимает продажа. Когда можно считать, что продажи прошли очень быстро, а когда необычно долго?"
   ]
  },
  {
   "cell_type": "code",
   "execution_count": 28,
   "metadata": {
    "scrolled": false
   },
   "outputs": [
    {
     "data": {
      "text/plain": [
       "<matplotlib.axes._subplots.AxesSubplot at 0x7f832ce65790>"
      ]
     },
     "execution_count": 28,
     "metadata": {},
     "output_type": "execute_result"
    },
    {
     "data": {
      "image/png": "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\n",
      "text/plain": [
       "<Figure size 720x360 with 1 Axes>"
      ]
     },
     "metadata": {
      "needs_background": "light"
     },
     "output_type": "display_data"
    },
    {
     "data": {
      "image/png": "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\n",
      "text/plain": [
       "<Figure size 720x360 with 1 Axes>"
      ]
     },
     "metadata": {
      "needs_background": "light"
     },
     "output_type": "display_data"
    }
   ],
   "source": [
    "import matplotlib.pyplot as plt\n",
    "de.plot(y = 'days_exposition', kind = 'hist', bins = 50, grid = True, figsize = (10,5), range = (0,2000))\n",
    "de.plot(y = 'days_exposition', kind = 'hist', bins = 100, grid = True, figsize = (10,5), range = (0,200))"
   ]
  },
  {
   "cell_type": "markdown",
   "metadata": {},
   "source": [
    "### Наблюдаем аномалии на 7, 45, 60 и 90 днях и распределение Пуассона"
   ]
  },
  {
   "cell_type": "markdown",
   "metadata": {},
   "source": [
    "\n",
    " Раньше я работал менеджером в Я.недвижимость, так что могу сказать - это не ошибки :)\n",
    " \n",
    "   на 7 день заканчивается премиум размещение, на 45 снимаются объявления без поднятий \n",
    "   \n",
    "   а на 30 и 60 обычно объявления перезаливаются, проверим 45 день!\n",
    "   \n",
    "   Эти данные скорее всего нужно убирать, либо обратиться к том кто их составлял за советом ¯\\_(ツ)_/¯\n",
    "  "
   ]
  },
  {
   "cell_type": "markdown",
   "metadata": {},
   "source": [
    "### Теперь найдем среднее и медиану"
   ]
  },
  {
   "cell_type": "code",
   "execution_count": 29,
   "metadata": {},
   "outputs": [
    {
     "data": {
      "text/plain": [
       "count    20518.000000\n",
       "mean       180.888634\n",
       "std        219.727988\n",
       "min          1.000000\n",
       "25%         45.000000\n",
       "50%         95.000000\n",
       "75%        232.000000\n",
       "max       1580.000000\n",
       "Name: days_exposition, dtype: float64"
      ]
     },
     "execution_count": 29,
     "metadata": {},
     "output_type": "execute_result"
    }
   ],
   "source": [
    "de['days_exposition'].describe()"
   ]
  },
  {
   "cell_type": "markdown",
   "metadata": {},
   "source": [
    "Судя по данным которые мы получили с помощью *describe*, межквартильный размах - от 45 до 232 дней\n",
    "\n",
    "  То есть выходит, что очень быстрые продажи это быстрее 45 дней, а медленные больше 232\n",
    "  \n",
    "  \n",
    "  Однако, нужно учитывать 2 фактора:\n",
    "  \n",
    "  1) Это база явно смешанных квартир, и вторички и новострое, сравнивать их скорость продажи бессмысленно, так как они буквально могут различаться в сотни раз\n",
    "  \n",
    "  2) Присутствуют аномальные данные, которые нам придется убирать далее"
   ]
  },
  {
   "cell_type": "markdown",
   "metadata": {},
   "source": [
    "#### 3) Уберите редкие и выбивающиеся значения. Опишите, какие особенности обнаружили"
   ]
  },
  {
   "cell_type": "markdown",
   "metadata": {},
   "source": [
    "создадим новую таблицу, без аномальных значений параметров:\n",
    "\n",
    "  1) days_exposition\n",
    "  \n",
    "  2) last_price\n",
    "  \n",
    "  3) ceiling_height \n",
    "  \n",
    "  4) total_area"
   ]
  },
  {
   "cell_type": "markdown",
   "metadata": {},
   "source": [
    "### days_exposition"
   ]
  },
  {
   "cell_type": "code",
   "execution_count": 30,
   "metadata": {},
   "outputs": [],
   "source": [
    "good_de = de.query('days_exposition != 45 and days_exposition != 7 and days_exposition != 0 and days_exposition != 30 and days_exposition != 60 and days_exposition != 90 and days_exposition < 1250')"
   ]
  },
  {
   "cell_type": "code",
   "execution_count": 31,
   "metadata": {},
   "outputs": [
    {
     "data": {
      "text/plain": [
       "count    19470.000000\n",
       "mean       183.789317\n",
       "std        211.954988\n",
       "min          1.000000\n",
       "25%         45.000000\n",
       "50%        103.000000\n",
       "75%        241.000000\n",
       "max       1240.000000\n",
       "Name: days_exposition, dtype: float64"
      ]
     },
     "execution_count": 31,
     "metadata": {},
     "output_type": "execute_result"
    },
    {
     "data": {
      "image/png": "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\n",
      "text/plain": [
       "<Figure size 720x360 with 1 Axes>"
      ]
     },
     "metadata": {
      "needs_background": "light"
     },
     "output_type": "display_data"
    }
   ],
   "source": [
    "# и повторим действия из предыдущего задания \n",
    "good_de.plot(y = 'days_exposition', kind = 'hist', bins = 50, grid = True, figsize = (10,5))\n",
    "good_de['days_exposition'].describe()"
   ]
  },
  {
   "cell_type": "markdown",
   "metadata": {},
   "source": [
    "### Вывод\n",
    "\n",
    "  Мы убрали аномальные значения, и теперь медиана и среднее стали - 104 и 187 соответственно "
   ]
  },
  {
   "cell_type": "markdown",
   "metadata": {},
   "source": [
    "### last_price"
   ]
  },
  {
   "cell_type": "markdown",
   "metadata": {},
   "source": [
    " Небольшая квартирка в лен.области всреднем стоит около миллиона   \n",
    "\n",
    " а за самую высокую цену возьмем 20 млн р (так как супер дорогие квартирывсе равно в минимальном количестве и ломают нам графики)\n",
    "\n",
    " (данные о средней стоймоси квартир были честно взяты из интернетов)\n"
   ]
  },
  {
   "cell_type": "code",
   "execution_count": 32,
   "metadata": {
    "scrolled": true
   },
   "outputs": [],
   "source": [
    "good_de = good_de.query('last_price > 1000000 and last_price < 20000000')"
   ]
  },
  {
   "cell_type": "code",
   "execution_count": 33,
   "metadata": {},
   "outputs": [
    {
     "data": {
      "text/plain": [
       "count    1.877000e+04\n",
       "mean     5.283651e+06\n",
       "std      3.044759e+06\n",
       "min      1.010000e+06\n",
       "25%      3.370000e+06\n",
       "50%      4.400000e+06\n",
       "75%      6.250000e+06\n",
       "max      1.999900e+07\n",
       "Name: last_price, dtype: float64"
      ]
     },
     "execution_count": 33,
     "metadata": {},
     "output_type": "execute_result"
    }
   ],
   "source": [
    "good_de['last_price'].describe()"
   ]
  },
  {
   "cell_type": "code",
   "execution_count": 34,
   "metadata": {
    "scrolled": true
   },
   "outputs": [
    {
     "data": {
      "text/plain": [
       "<matplotlib.axes._subplots.AxesSubplot at 0x7f832cee4d90>"
      ]
     },
     "execution_count": 34,
     "metadata": {},
     "output_type": "execute_result"
    },
    {
     "data": {
      "image/png": "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\n",
      "text/plain": [
       "<Figure size 720x360 with 1 Axes>"
      ]
     },
     "metadata": {
      "needs_background": "light"
     },
     "output_type": "display_data"
    }
   ],
   "source": [
    "good_de.plot(y='last_price', kind='hist', bins=100, grid=True, figsize = (10,5))"
   ]
  },
  {
   "cell_type": "code",
   "execution_count": 35,
   "metadata": {},
   "outputs": [
    {
     "data": {
      "text/plain": [
       "975      19999000.0\n",
       "22172    19990000.0\n",
       "6347     19980000.0\n",
       "2251     19950000.0\n",
       "21040    19950000.0\n",
       "            ...    \n",
       "17952     1050000.0\n",
       "10995     1050000.0\n",
       "11680     1030000.0\n",
       "8888      1030000.0\n",
       "1256      1010000.0\n",
       "Name: last_price, Length: 18770, dtype: float64"
      ]
     },
     "execution_count": 35,
     "metadata": {},
     "output_type": "execute_result"
    }
   ],
   "source": [
    "good_de['last_price'].sort_values(ascending=False)"
   ]
  },
  {
   "cell_type": "markdown",
   "metadata": {},
   "source": [
    "Мы убрали из цен выбросы, теперь мы можем понять, что средня стоймость квартиры около 4.5 млн"
   ]
  },
  {
   "cell_type": "markdown",
   "metadata": {},
   "source": [
    "### ceiling_height"
   ]
  },
  {
   "cell_type": "code",
   "execution_count": 36,
   "metadata": {},
   "outputs": [],
   "source": [
    "good_de = good_de.query('ceiling_height < 3.5 and ceiling_height > 2.3')"
   ]
  },
  {
   "cell_type": "code",
   "execution_count": 37,
   "metadata": {},
   "outputs": [
    {
     "data": {
      "text/plain": [
       "count    10747.000000\n",
       "mean         2.684048\n",
       "std          0.197670\n",
       "min          2.340000\n",
       "25%          2.500000\n",
       "50%          2.610000\n",
       "75%          2.750000\n",
       "max          3.490000\n",
       "Name: ceiling_height, dtype: float64"
      ]
     },
     "execution_count": 37,
     "metadata": {},
     "output_type": "execute_result"
    }
   ],
   "source": [
    "good_de['ceiling_height'].describe()"
   ]
  },
  {
   "cell_type": "code",
   "execution_count": 38,
   "metadata": {},
   "outputs": [
    {
     "data": {
      "text/plain": [
       "<matplotlib.axes._subplots.AxesSubplot at 0x7f832d24b290>"
      ]
     },
     "execution_count": 38,
     "metadata": {},
     "output_type": "execute_result"
    },
    {
     "data": {
      "image/png": "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\n",
      "text/plain": [
       "<Figure size 720x360 with 1 Axes>"
      ]
     },
     "metadata": {
      "needs_background": "light"
     },
     "output_type": "display_data"
    }
   ],
   "source": [
    "good_de.plot(y='ceiling_height', kind='hist', bins=100, grid=True, figsize = (10,5))"
   ]
  },
  {
   "cell_type": "markdown",
   "metadata": {},
   "source": [
    "Убрали выбросы высоты потолков!"
   ]
  },
  {
   "cell_type": "markdown",
   "metadata": {},
   "source": [
    "### total_area"
   ]
  },
  {
   "cell_type": "markdown",
   "metadata": {},
   "source": [
    "Квартиры больше 125 метров и меньше 15  практически не встречаются - уберем их! "
   ]
  },
  {
   "cell_type": "code",
   "execution_count": 39,
   "metadata": {},
   "outputs": [],
   "source": [
    "good_de = good_de.query('total_area > 15 and total_area < 125')"
   ]
  },
  {
   "cell_type": "code",
   "execution_count": 40,
   "metadata": {},
   "outputs": [
    {
     "data": {
      "text/plain": [
       "count    10571.000000\n",
       "mean        54.450005\n",
       "std         19.719974\n",
       "min         17.000000\n",
       "25%         39.700000\n",
       "50%         50.000000\n",
       "75%         65.300000\n",
       "max        124.700000\n",
       "Name: total_area, dtype: float64"
      ]
     },
     "execution_count": 40,
     "metadata": {},
     "output_type": "execute_result"
    },
    {
     "data": {
      "image/png": "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\n",
      "text/plain": [
       "<Figure size 432x288 with 1 Axes>"
      ]
     },
     "metadata": {
      "needs_background": "light"
     },
     "output_type": "display_data"
    }
   ],
   "source": [
    "good_de['total_area'].plot(kind='hist', bins=100, grid=True)\n",
    "good_de['total_area'].describe()"
   ]
  },
  {
   "cell_type": "markdown",
   "metadata": {},
   "source": [
    "В Питере явно популярны квартиры с площадь 30 и 45 метро!"
   ]
  },
  {
   "cell_type": "markdown",
   "metadata": {},
   "source": [
    "#### 4) Какие факторы больше всего влияют на стоимость квартиры? \n",
    "    \n",
    "    \n",
    "    а) Изучите, зависит ли цена от квадратного метра, числа комнат, этажа (первого или последнего), удалённости от центра. \n",
    "     \n",
    "    б) Также изучите зависимость от даты размещения: дня недели, месяца и года. \n",
    "   \n",
    "    в) \"Выберите 10 населённых пунктов с наибольшим числом объявлений. Посчитайте среднюю цену квадратного метра в этих населённых пунктах. \n",
    "    Выделите населённые пункты с самой высокой и низкой стоимостью жилья. \n",
    "   \n",
    "    Эти данные можно найти по имени в столбце '*locality_name'*."
   ]
  },
  {
   "cell_type": "code",
   "execution_count": 61,
   "metadata": {},
   "outputs": [
    {
     "data": {
      "text/plain": [
       "<matplotlib.axes._subplots.AxesSubplot at 0x7f832cc09f50>"
      ]
     },
     "execution_count": 61,
     "metadata": {},
     "output_type": "execute_result"
    },
    {
     "data": {
      "image/png": "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\n",
      "text/plain": [
       "<Figure size 432x288 with 1 Axes>"
      ]
     },
     "metadata": {
      "needs_background": "light"
     },
     "output_type": "display_data"
    }
   ],
   "source": [
    "# Начинаем изучать зависимости цены от разных факторов:\n",
    "# 1) От квадратного метра\n",
    "# pt - pivot_table\n",
    "pt_total_area = good_de.pivot_table(index='total_area', values='price_per_m', aggfunc=['mean', 'count', 'median'])\n",
    "pt_total_area.columns=['mean', 'count', 'median']\n",
    "pt_total_area.plot(y='median', style='o')"
   ]
  },
  {
   "cell_type": "code",
   "execution_count": 42,
   "metadata": {},
   "outputs": [
    {
     "data": {
      "text/plain": [
       "0.0427467466676434"
      ]
     },
     "execution_count": 42,
     "metadata": {},
     "output_type": "execute_result"
    }
   ],
   "source": [
    "# найдем корреляцию\n",
    "good_de['total_area'].corr(good_de['price_per_m'])"
   ]
  },
  {
   "cell_type": "markdown",
   "metadata": {},
   "source": [
    "Зависимость крайне мала! Корреляция Пирсона - 0.4, то есть чем больше площадь, тем немного дороже квартира :)"
   ]
  },
  {
   "cell_type": "code",
   "execution_count": 43,
   "metadata": {},
   "outputs": [
    {
     "data": {
      "text/plain": [
       "-0.16647924525679322"
      ]
     },
     "execution_count": 43,
     "metadata": {},
     "output_type": "execute_result"
    },
    {
     "data": {
      "image/png": "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\n",
      "text/plain": [
       "<Figure size 432x288 with 1 Axes>"
      ]
     },
     "metadata": {
      "needs_background": "light"
     },
     "output_type": "display_data"
    }
   ],
   "source": [
    "# Теперь посмотрим на зависимость от числа комнат\n",
    "pt_rooms = good_de.pivot_table(index='rooms', values='price_per_m', aggfunc=['mean', 'count', 'median'])\n",
    "pt_rooms.columns=['mean', 'count', 'median']\n",
    "pt_rooms.query('count > 10').plot(y='median')\n",
    "good_de['rooms'].corr(good_de['price_per_m'])"
   ]
  },
  {
   "cell_type": "markdown",
   "metadata": {},
   "source": [
    "Корреляция не значительна "
   ]
  },
  {
   "cell_type": "markdown",
   "metadata": {},
   "source": [
    "#### Рассмотрим зависимость от этажа"
   ]
  },
  {
   "cell_type": "code",
   "execution_count": 62,
   "metadata": {},
   "outputs": [
    {
     "data": {
      "text/html": [
       "<div>\n",
       "<style scoped>\n",
       "    .dataframe tbody tr th:only-of-type {\n",
       "        vertical-align: middle;\n",
       "    }\n",
       "\n",
       "    .dataframe tbody tr th {\n",
       "        vertical-align: top;\n",
       "    }\n",
       "\n",
       "    .dataframe thead th {\n",
       "        text-align: right;\n",
       "    }\n",
       "</style>\n",
       "<table border=\"1\" class=\"dataframe\">\n",
       "  <thead>\n",
       "    <tr style=\"text-align: right;\">\n",
       "      <th></th>\n",
       "      <th>mean</th>\n",
       "      <th>count</th>\n",
       "      <th>median</th>\n",
       "    </tr>\n",
       "    <tr>\n",
       "      <th>floor_category</th>\n",
       "      <th></th>\n",
       "      <th></th>\n",
       "      <th></th>\n",
       "    </tr>\n",
       "  </thead>\n",
       "  <tbody>\n",
       "    <tr>\n",
       "      <td>высокий</td>\n",
       "      <td>97496.534737</td>\n",
       "      <td>4275</td>\n",
       "      <td>96012.0</td>\n",
       "    </tr>\n",
       "    <tr>\n",
       "      <td>низкий</td>\n",
       "      <td>100429.611863</td>\n",
       "      <td>3102</td>\n",
       "      <td>98656.0</td>\n",
       "    </tr>\n",
       "    <tr>\n",
       "      <td>первый</td>\n",
       "      <td>80931.176072</td>\n",
       "      <td>1329</td>\n",
       "      <td>81279.0</td>\n",
       "    </tr>\n",
       "    <tr>\n",
       "      <td>последний</td>\n",
       "      <td>89273.867688</td>\n",
       "      <td>1436</td>\n",
       "      <td>88458.0</td>\n",
       "    </tr>\n",
       "    <tr>\n",
       "      <td>средний</td>\n",
       "      <td>102466.738208</td>\n",
       "      <td>424</td>\n",
       "      <td>99732.5</td>\n",
       "    </tr>\n",
       "  </tbody>\n",
       "</table>\n",
       "</div>"
      ],
      "text/plain": [
       "                         mean  count   median\n",
       "floor_category                               \n",
       "высокий          97496.534737   4275  96012.0\n",
       "низкий          100429.611863   3102  98656.0\n",
       "первый           80931.176072   1329  81279.0\n",
       "последний        89273.867688   1436  88458.0\n",
       "средний         102466.738208    424  99732.5"
      ]
     },
     "execution_count": 62,
     "metadata": {},
     "output_type": "execute_result"
    },
    {
     "data": {
      "image/png": "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\n",
      "text/plain": [
       "<Figure size 432x288 with 1 Axes>"
      ]
     },
     "metadata": {
      "needs_background": "light"
     },
     "output_type": "display_data"
    }
   ],
   "source": [
    "pt_floor = good_de.query('floor_category != \"другой\"').pivot_table(index='floor_category', values='price_per_m', aggfunc=['mean', 'count', 'median'])\n",
    "pt_floor.columns = ['mean', 'count', 'median']\n",
    "pt_floor.plot(y='mean')\n",
    "pt_floor"
   ]
  },
  {
   "cell_type": "markdown",
   "metadata": {},
   "source": [
    "Что же мы получаем?\n",
    "\n",
    "  1) Наудивление самым дорогим этажем всреднем, оказался средний, правда его гораздно меньше чем всех остальных\n",
    "     \n",
    "  2) Первый ожидаемо - самый дешёвый!\n",
    "  \n",
    "  3) *Другой* не учитываем\n",
    "\n",
    "  4) \"высокий\" - оказался самым популярным\n",
    "  \n",
    "  5) Последний, тоже ожадаемо не такой дорогой по Питеру, скорее всего из-за достаточно низких зданий по городу!\n",
    "  \n",
    "  6) Квартир на нижних этажах продаётся тоже доволно много, по достаточно высоким ценам"
   ]
  },
  {
   "cell_type": "code",
   "execution_count": 45,
   "metadata": {},
   "outputs": [
    {
     "data": {
      "text/plain": [
       "-0.3965017276411872"
      ]
     },
     "execution_count": 45,
     "metadata": {},
     "output_type": "execute_result"
    },
    {
     "data": {
      "image/png": "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\n",
      "text/plain": [
       "<Figure size 432x288 with 1 Axes>"
      ]
     },
     "metadata": {
      "needs_background": "light"
     },
     "output_type": "display_data"
    }
   ],
   "source": [
    "# от удаленности от цетра\n",
    "good_de.plot(kind = 'scatter', y='price_per_m', x='cityCenters_nearest')\n",
    "good_de['cityCenters_nearest'].corr(good_de['price_per_m'])"
   ]
  },
  {
   "cell_type": "markdown",
   "metadata": {},
   "source": [
    "Чем ближе к центра - тем дороже!"
   ]
  },
  {
   "cell_type": "markdown",
   "metadata": {},
   "source": [
    "#### Зависимость от времени размещения"
   ]
  },
  {
   "cell_type": "code",
   "execution_count": 46,
   "metadata": {},
   "outputs": [
    {
     "data": {
      "text/html": [
       "<div>\n",
       "<style scoped>\n",
       "    .dataframe tbody tr th:only-of-type {\n",
       "        vertical-align: middle;\n",
       "    }\n",
       "\n",
       "    .dataframe tbody tr th {\n",
       "        vertical-align: top;\n",
       "    }\n",
       "\n",
       "    .dataframe thead th {\n",
       "        text-align: right;\n",
       "    }\n",
       "</style>\n",
       "<table border=\"1\" class=\"dataframe\">\n",
       "  <thead>\n",
       "    <tr style=\"text-align: right;\">\n",
       "      <th></th>\n",
       "      <th>mean</th>\n",
       "      <th>count</th>\n",
       "      <th>median</th>\n",
       "    </tr>\n",
       "    <tr>\n",
       "      <th>week_exp</th>\n",
       "      <th></th>\n",
       "      <th></th>\n",
       "      <th></th>\n",
       "    </tr>\n",
       "  </thead>\n",
       "  <tbody>\n",
       "    <tr>\n",
       "      <td>1</td>\n",
       "      <td>96573.796672</td>\n",
       "      <td>1923</td>\n",
       "      <td>95360</td>\n",
       "    </tr>\n",
       "    <tr>\n",
       "      <td>2</td>\n",
       "      <td>95230.609420</td>\n",
       "      <td>1741</td>\n",
       "      <td>94754</td>\n",
       "    </tr>\n",
       "    <tr>\n",
       "      <td>3</td>\n",
       "      <td>96054.595447</td>\n",
       "      <td>1933</td>\n",
       "      <td>94444</td>\n",
       "    </tr>\n",
       "    <tr>\n",
       "      <td>0</td>\n",
       "      <td>94799.002966</td>\n",
       "      <td>1686</td>\n",
       "      <td>94342</td>\n",
       "    </tr>\n",
       "    <tr>\n",
       "      <td>6</td>\n",
       "      <td>94656.200000</td>\n",
       "      <td>720</td>\n",
       "      <td>93678</td>\n",
       "    </tr>\n",
       "    <tr>\n",
       "      <td>4</td>\n",
       "      <td>95247.795930</td>\n",
       "      <td>1720</td>\n",
       "      <td>93435</td>\n",
       "    </tr>\n",
       "    <tr>\n",
       "      <td>5</td>\n",
       "      <td>93365.928066</td>\n",
       "      <td>848</td>\n",
       "      <td>91196</td>\n",
       "    </tr>\n",
       "  </tbody>\n",
       "</table>\n",
       "</div>"
      ],
      "text/plain": [
       "                  mean  count  median\n",
       "week_exp                             \n",
       "1         96573.796672   1923   95360\n",
       "2         95230.609420   1741   94754\n",
       "3         96054.595447   1933   94444\n",
       "0         94799.002966   1686   94342\n",
       "6         94656.200000    720   93678\n",
       "4         95247.795930   1720   93435\n",
       "5         93365.928066    848   91196"
      ]
     },
     "execution_count": 46,
     "metadata": {},
     "output_type": "execute_result"
    },
    {
     "data": {
      "image/png": "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\n",
      "text/plain": [
       "<Figure size 432x288 with 1 Axes>"
      ]
     },
     "metadata": {
      "needs_background": "light"
     },
     "output_type": "display_data"
    }
   ],
   "source": [
    "# недели:\n",
    "pt_week = good_de.pivot_table(index='week_exp', values='price_per_m', aggfunc=['mean', 'count', 'median'])\n",
    "pt_week.columns=['mean', 'count', 'median']\n",
    "pt_week.plot(y='median')\n",
    "pt_week.sort_values('median', ascending=False)"
   ]
  },
  {
   "cell_type": "markdown",
   "metadata": {},
   "source": [
    "В понедельник выставляют новые квартиры в большом объеме, так как агенты, застройщики, риэлторы и т.д. выходят с выходных\n",
    "  \n",
    "   \n",
    "  К выходным цены снижаются из-за нескольких причин:\n",
    "  \n",
    "  1) недельные торги, например в комплексе сбили на аукционе цены на несколько квартир и стоймость упала у всего дома\n",
    "  \n",
    "  2) привлечь клиентов хорошими ценами, люди ищут себе жильё в свободное время - в выходные \n",
    "  \n",
    "  3) могут упасть цены на высоколиквидные объекты, если вдруг не успевают реализовать их в скрок (а дедлайны обычно в конце недели)"
   ]
  },
  {
   "cell_type": "code",
   "execution_count": 47,
   "metadata": {},
   "outputs": [
    {
     "data": {
      "text/html": [
       "<div>\n",
       "<style scoped>\n",
       "    .dataframe tbody tr th:only-of-type {\n",
       "        vertical-align: middle;\n",
       "    }\n",
       "\n",
       "    .dataframe tbody tr th {\n",
       "        vertical-align: top;\n",
       "    }\n",
       "\n",
       "    .dataframe thead th {\n",
       "        text-align: right;\n",
       "    }\n",
       "</style>\n",
       "<table border=\"1\" class=\"dataframe\">\n",
       "  <thead>\n",
       "    <tr style=\"text-align: right;\">\n",
       "      <th></th>\n",
       "      <th>mean</th>\n",
       "      <th>count</th>\n",
       "      <th>median</th>\n",
       "    </tr>\n",
       "    <tr>\n",
       "      <th>month_exp</th>\n",
       "      <th></th>\n",
       "      <th></th>\n",
       "      <th></th>\n",
       "    </tr>\n",
       "  </thead>\n",
       "  <tbody>\n",
       "    <tr>\n",
       "      <td>9</td>\n",
       "      <td>97041.254098</td>\n",
       "      <td>976</td>\n",
       "      <td>95607.5</td>\n",
       "    </tr>\n",
       "    <tr>\n",
       "      <td>8</td>\n",
       "      <td>97382.519685</td>\n",
       "      <td>889</td>\n",
       "      <td>95370.0</td>\n",
       "    </tr>\n",
       "    <tr>\n",
       "      <td>11</td>\n",
       "      <td>95429.727934</td>\n",
       "      <td>1099</td>\n",
       "      <td>95238.0</td>\n",
       "    </tr>\n",
       "    <tr>\n",
       "      <td>1</td>\n",
       "      <td>96057.228018</td>\n",
       "      <td>671</td>\n",
       "      <td>95081.0</td>\n",
       "    </tr>\n",
       "    <tr>\n",
       "      <td>2</td>\n",
       "      <td>95681.049960</td>\n",
       "      <td>1241</td>\n",
       "      <td>94495.0</td>\n",
       "    </tr>\n",
       "    <tr>\n",
       "      <td>4</td>\n",
       "      <td>96784.306757</td>\n",
       "      <td>740</td>\n",
       "      <td>94309.0</td>\n",
       "    </tr>\n",
       "    <tr>\n",
       "      <td>12</td>\n",
       "      <td>95428.585014</td>\n",
       "      <td>694</td>\n",
       "      <td>93803.5</td>\n",
       "    </tr>\n",
       "    <tr>\n",
       "      <td>7</td>\n",
       "      <td>94476.312652</td>\n",
       "      <td>822</td>\n",
       "      <td>93721.5</td>\n",
       "    </tr>\n",
       "    <tr>\n",
       "      <td>5</td>\n",
       "      <td>95488.418386</td>\n",
       "      <td>533</td>\n",
       "      <td>93589.0</td>\n",
       "    </tr>\n",
       "    <tr>\n",
       "      <td>10</td>\n",
       "      <td>94444.773460</td>\n",
       "      <td>1055</td>\n",
       "      <td>93537.0</td>\n",
       "    </tr>\n",
       "    <tr>\n",
       "      <td>6</td>\n",
       "      <td>92850.073587</td>\n",
       "      <td>761</td>\n",
       "      <td>92962.0</td>\n",
       "    </tr>\n",
       "    <tr>\n",
       "      <td>3</td>\n",
       "      <td>93676.635780</td>\n",
       "      <td>1090</td>\n",
       "      <td>92546.0</td>\n",
       "    </tr>\n",
       "  </tbody>\n",
       "</table>\n",
       "</div>"
      ],
      "text/plain": [
       "                   mean  count   median\n",
       "month_exp                              \n",
       "9          97041.254098    976  95607.5\n",
       "8          97382.519685    889  95370.0\n",
       "11         95429.727934   1099  95238.0\n",
       "1          96057.228018    671  95081.0\n",
       "2          95681.049960   1241  94495.0\n",
       "4          96784.306757    740  94309.0\n",
       "12         95428.585014    694  93803.5\n",
       "7          94476.312652    822  93721.5\n",
       "5          95488.418386    533  93589.0\n",
       "10         94444.773460   1055  93537.0\n",
       "6          92850.073587    761  92962.0\n",
       "3          93676.635780   1090  92546.0"
      ]
     },
     "execution_count": 47,
     "metadata": {},
     "output_type": "execute_result"
    },
    {
     "data": {
      "image/png": "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\n",
      "text/plain": [
       "<Figure size 432x288 with 1 Axes>"
      ]
     },
     "metadata": {
      "needs_background": "light"
     },
     "output_type": "display_data"
    }
   ],
   "source": [
    "pt_month = good_de.pivot_table(index='month_exp', values='price_per_m', aggfunc=['mean', 'count', 'median'])\n",
    "pt_month.columns=['mean', 'count', 'median']\n",
    "pt_month.plot(y='median')\n",
    "pt_month.sort_values('median', ascending=False)"
   ]
  },
  {
   "cell_type": "markdown",
   "metadata": {},
   "source": [
    "Самые высокие цены мы наблюдаем  в августе а самые низкие в марте!"
   ]
  },
  {
   "cell_type": "code",
   "execution_count": 48,
   "metadata": {},
   "outputs": [
    {
     "data": {
      "text/html": [
       "<div>\n",
       "<style scoped>\n",
       "    .dataframe tbody tr th:only-of-type {\n",
       "        vertical-align: middle;\n",
       "    }\n",
       "\n",
       "    .dataframe tbody tr th {\n",
       "        vertical-align: top;\n",
       "    }\n",
       "\n",
       "    .dataframe thead th {\n",
       "        text-align: right;\n",
       "    }\n",
       "</style>\n",
       "<table border=\"1\" class=\"dataframe\">\n",
       "  <thead>\n",
       "    <tr style=\"text-align: right;\">\n",
       "      <th></th>\n",
       "      <th>mean</th>\n",
       "      <th>count</th>\n",
       "      <th>median</th>\n",
       "    </tr>\n",
       "    <tr>\n",
       "      <th>year_exp</th>\n",
       "      <th></th>\n",
       "      <th></th>\n",
       "      <th></th>\n",
       "    </tr>\n",
       "  </thead>\n",
       "  <tbody>\n",
       "    <tr>\n",
       "      <td>2019</td>\n",
       "      <td>106040.247159</td>\n",
       "      <td>704</td>\n",
       "      <td>105921.0</td>\n",
       "    </tr>\n",
       "    <tr>\n",
       "      <td>2014</td>\n",
       "      <td>100907.022727</td>\n",
       "      <td>44</td>\n",
       "      <td>97250.0</td>\n",
       "    </tr>\n",
       "    <tr>\n",
       "      <td>2018</td>\n",
       "      <td>96037.345568</td>\n",
       "      <td>4468</td>\n",
       "      <td>95598.5</td>\n",
       "    </tr>\n",
       "    <tr>\n",
       "      <td>2017</td>\n",
       "      <td>93521.934422</td>\n",
       "      <td>3736</td>\n",
       "      <td>92032.5</td>\n",
       "    </tr>\n",
       "    <tr>\n",
       "      <td>2016</td>\n",
       "      <td>93331.370815</td>\n",
       "      <td>1165</td>\n",
       "      <td>91116.0</td>\n",
       "    </tr>\n",
       "    <tr>\n",
       "      <td>2015</td>\n",
       "      <td>92179.376652</td>\n",
       "      <td>454</td>\n",
       "      <td>88868.5</td>\n",
       "    </tr>\n",
       "  </tbody>\n",
       "</table>\n",
       "</div>"
      ],
      "text/plain": [
       "                   mean  count    median\n",
       "year_exp                                \n",
       "2019      106040.247159    704  105921.0\n",
       "2014      100907.022727     44   97250.0\n",
       "2018       96037.345568   4468   95598.5\n",
       "2017       93521.934422   3736   92032.5\n",
       "2016       93331.370815   1165   91116.0\n",
       "2015       92179.376652    454   88868.5"
      ]
     },
     "execution_count": 48,
     "metadata": {},
     "output_type": "execute_result"
    },
    {
     "data": {
      "image/png": "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\n",
      "text/plain": [
       "<Figure size 432x288 with 1 Axes>"
      ]
     },
     "metadata": {
      "needs_background": "light"
     },
     "output_type": "display_data"
    }
   ],
   "source": [
    "# Год\n",
    "pt_year = good_de.pivot_table(index='year_exp', values='price_per_m', aggfunc=['mean', 'count', 'median'])\n",
    "pt_year.columns=['mean', 'count', 'median']\n",
    "pt_year.plot(y='median')\n",
    "pt_year.sort_values('median', ascending=False)"
   ]
  },
  {
   "cell_type": "markdown",
   "metadata": {},
   "source": [
    "Тут все складывется в одно - кризис 2016 года :(\n",
    "\n",
    "  Если взять данные с более широкого промежутка времени (2005 - 2020 например) таких просадок, больших и не слишком, можно увидеть много (самая заметная будет в 2008 - 2009)"
   ]
  },
  {
   "cell_type": "markdown",
   "metadata": {},
   "source": [
    "#### По населенным пунктам\n",
    "Выберите 10 населённых пунктов с наибольшим числом объявлений. Посчитайте среднюю цену квадратного метра в этих населённых пунктах. \n",
    "    Выделите населённые пункты с самой высокой и низкой стоимостью жилья."
   ]
  },
  {
   "cell_type": "code",
   "execution_count": 49,
   "metadata": {},
   "outputs": [
    {
     "data": {
      "text/html": [
       "<div>\n",
       "<style scoped>\n",
       "    .dataframe tbody tr th:only-of-type {\n",
       "        vertical-align: middle;\n",
       "    }\n",
       "\n",
       "    .dataframe tbody tr th {\n",
       "        vertical-align: top;\n",
       "    }\n",
       "\n",
       "    .dataframe thead th {\n",
       "        text-align: right;\n",
       "    }\n",
       "</style>\n",
       "<table border=\"1\" class=\"dataframe\">\n",
       "  <thead>\n",
       "    <tr style=\"text-align: right;\">\n",
       "      <th></th>\n",
       "      <th>count</th>\n",
       "      <th>mean</th>\n",
       "      <th>median</th>\n",
       "    </tr>\n",
       "    <tr>\n",
       "      <th>locality_name</th>\n",
       "      <th></th>\n",
       "      <th></th>\n",
       "      <th></th>\n",
       "    </tr>\n",
       "  </thead>\n",
       "  <tbody>\n",
       "    <tr>\n",
       "      <td>Санкт-Петербург</td>\n",
       "      <td>7207</td>\n",
       "      <td>107273.251283</td>\n",
       "      <td>102416.0</td>\n",
       "    </tr>\n",
       "    <tr>\n",
       "      <td>Всеволожск</td>\n",
       "      <td>212</td>\n",
       "      <td>66346.679245</td>\n",
       "      <td>65268.5</td>\n",
       "    </tr>\n",
       "    <tr>\n",
       "      <td>посёлок Мурино</td>\n",
       "      <td>191</td>\n",
       "      <td>87132.638743</td>\n",
       "      <td>85714.0</td>\n",
       "    </tr>\n",
       "    <tr>\n",
       "      <td>посёлок Шушары</td>\n",
       "      <td>180</td>\n",
       "      <td>78107.611111</td>\n",
       "      <td>76919.5</td>\n",
       "    </tr>\n",
       "    <tr>\n",
       "      <td>Колпино</td>\n",
       "      <td>170</td>\n",
       "      <td>75274.717647</td>\n",
       "      <td>73355.5</td>\n",
       "    </tr>\n",
       "    <tr>\n",
       "      <td>Пушкин</td>\n",
       "      <td>165</td>\n",
       "      <td>99968.315152</td>\n",
       "      <td>97178.0</td>\n",
       "    </tr>\n",
       "    <tr>\n",
       "      <td>деревня Кудрово</td>\n",
       "      <td>119</td>\n",
       "      <td>90792.613445</td>\n",
       "      <td>91428.0</td>\n",
       "    </tr>\n",
       "    <tr>\n",
       "      <td>Петергоф</td>\n",
       "      <td>117</td>\n",
       "      <td>82733.350427</td>\n",
       "      <td>80547.0</td>\n",
       "    </tr>\n",
       "    <tr>\n",
       "      <td>Гатчина</td>\n",
       "      <td>116</td>\n",
       "      <td>69043.181034</td>\n",
       "      <td>68371.5</td>\n",
       "    </tr>\n",
       "    <tr>\n",
       "      <td>посёлок Парголово</td>\n",
       "      <td>113</td>\n",
       "      <td>89474.911504</td>\n",
       "      <td>90351.0</td>\n",
       "    </tr>\n",
       "  </tbody>\n",
       "</table>\n",
       "</div>"
      ],
      "text/plain": [
       "                   count           mean    median\n",
       "locality_name                                    \n",
       "Санкт-Петербург     7207  107273.251283  102416.0\n",
       "Всеволожск           212   66346.679245   65268.5\n",
       "посёлок Мурино       191   87132.638743   85714.0\n",
       "посёлок Шушары       180   78107.611111   76919.5\n",
       "Колпино              170   75274.717647   73355.5\n",
       "Пушкин               165   99968.315152   97178.0\n",
       "деревня Кудрово      119   90792.613445   91428.0\n",
       "Петергоф             117   82733.350427   80547.0\n",
       "Гатчина              116   69043.181034   68371.5\n",
       "посёлок Парголово    113   89474.911504   90351.0"
      ]
     },
     "execution_count": 49,
     "metadata": {},
     "output_type": "execute_result"
    }
   ],
   "source": [
    "pt_location = good_de.pivot_table(index = 'locality_name', values = 'price_per_m', aggfunc=['count', 'mean', 'median'])\n",
    "pt_location.columns = ['count', 'mean', 'median']\n",
    "pt_location = pt_location.sort_values('count', ascending = False).head(10)\n",
    "pt_location"
   ]
  },
  {
   "cell_type": "code",
   "execution_count": 50,
   "metadata": {},
   "outputs": [
    {
     "data": {
      "text/html": [
       "<div>\n",
       "<style scoped>\n",
       "    .dataframe tbody tr th:only-of-type {\n",
       "        vertical-align: middle;\n",
       "    }\n",
       "\n",
       "    .dataframe tbody tr th {\n",
       "        vertical-align: top;\n",
       "    }\n",
       "\n",
       "    .dataframe thead th {\n",
       "        text-align: right;\n",
       "    }\n",
       "</style>\n",
       "<table border=\"1\" class=\"dataframe\">\n",
       "  <thead>\n",
       "    <tr style=\"text-align: right;\">\n",
       "      <th></th>\n",
       "      <th>count</th>\n",
       "      <th>mean</th>\n",
       "      <th>median</th>\n",
       "    </tr>\n",
       "    <tr>\n",
       "      <th>locality_name</th>\n",
       "      <th></th>\n",
       "      <th></th>\n",
       "      <th></th>\n",
       "    </tr>\n",
       "  </thead>\n",
       "  <tbody>\n",
       "    <tr>\n",
       "      <td>Санкт-Петербург</td>\n",
       "      <td>7207</td>\n",
       "      <td>107273.251283</td>\n",
       "      <td>102416.0</td>\n",
       "    </tr>\n",
       "  </tbody>\n",
       "</table>\n",
       "</div>"
      ],
      "text/plain": [
       "                 count           mean    median\n",
       "locality_name                                  \n",
       "Санкт-Петербург   7207  107273.251283  102416.0"
      ]
     },
     "execution_count": 50,
     "metadata": {},
     "output_type": "execute_result"
    }
   ],
   "source": [
    "#самая высокая\n",
    "pt_location[pt_location['mean']==pt_location['mean'].max()]"
   ]
  },
  {
   "cell_type": "code",
   "execution_count": 51,
   "metadata": {},
   "outputs": [
    {
     "data": {
      "text/html": [
       "<div>\n",
       "<style scoped>\n",
       "    .dataframe tbody tr th:only-of-type {\n",
       "        vertical-align: middle;\n",
       "    }\n",
       "\n",
       "    .dataframe tbody tr th {\n",
       "        vertical-align: top;\n",
       "    }\n",
       "\n",
       "    .dataframe thead th {\n",
       "        text-align: right;\n",
       "    }\n",
       "</style>\n",
       "<table border=\"1\" class=\"dataframe\">\n",
       "  <thead>\n",
       "    <tr style=\"text-align: right;\">\n",
       "      <th></th>\n",
       "      <th>count</th>\n",
       "      <th>mean</th>\n",
       "      <th>median</th>\n",
       "    </tr>\n",
       "    <tr>\n",
       "      <th>locality_name</th>\n",
       "      <th></th>\n",
       "      <th></th>\n",
       "      <th></th>\n",
       "    </tr>\n",
       "  </thead>\n",
       "  <tbody>\n",
       "    <tr>\n",
       "      <td>Всеволожск</td>\n",
       "      <td>212</td>\n",
       "      <td>66346.679245</td>\n",
       "      <td>65268.5</td>\n",
       "    </tr>\n",
       "  </tbody>\n",
       "</table>\n",
       "</div>"
      ],
      "text/plain": [
       "               count          mean   median\n",
       "locality_name                              \n",
       "Всеволожск       212  66346.679245  65268.5"
      ]
     },
     "execution_count": 51,
     "metadata": {},
     "output_type": "execute_result"
    }
   ],
   "source": [
    "# самая низка\n",
    "pt_location[pt_location['mean']==pt_location['mean'].min()]"
   ]
  },
  {
   "cell_type": "markdown",
   "metadata": {},
   "source": [
    "Все логично, в Питере дорого, а в Всеволожске не слишком :)"
   ]
  },
  {
   "cell_type": "markdown",
   "metadata": {},
   "source": [
    "### Изучите предложения квартир:\n",
    "\n",
    "Для каждой квартиры есть информация о расстоянии до центра. \n",
    "\n",
    "  \n",
    " \n",
    " Выделите квартиры в Санкт-Петербурге (*'locality_name'*). \n",
    "\n",
    "  Ваша задача — выяснить, какая область входит в центр. \n",
    "  \n",
    "  Создайте столбец с расстоянием до центра в километрах: округлите до целых значений. \n",
    "  \n",
    "  После этого посчитайте среднюю цену для каждого километра. \n",
    "  \n",
    "  Постройте график: он должен показывать, как цена зависит от удалённости от центра. \n",
    "  \n",
    "  Определите границу, где график сильно меняется — это и будет центральная зона."
   ]
  },
  {
   "cell_type": "code",
   "execution_count": 64,
   "metadata": {},
   "outputs": [
    {
     "data": {
      "text/html": [
       "<div>\n",
       "<style scoped>\n",
       "    .dataframe tbody tr th:only-of-type {\n",
       "        vertical-align: middle;\n",
       "    }\n",
       "\n",
       "    .dataframe tbody tr th {\n",
       "        vertical-align: top;\n",
       "    }\n",
       "\n",
       "    .dataframe thead th {\n",
       "        text-align: right;\n",
       "    }\n",
       "</style>\n",
       "<table border=\"1\" class=\"dataframe\">\n",
       "  <thead>\n",
       "    <tr style=\"text-align: right;\">\n",
       "      <th></th>\n",
       "      <th>price_per_m</th>\n",
       "    </tr>\n",
       "    <tr>\n",
       "      <th>cityCenters_nearest_km</th>\n",
       "      <th></th>\n",
       "    </tr>\n",
       "  </thead>\n",
       "  <tbody>\n",
       "    <tr>\n",
       "      <td>0</td>\n",
       "      <td>187323.674419</td>\n",
       "    </tr>\n",
       "    <tr>\n",
       "      <td>1</td>\n",
       "      <td>166603.312500</td>\n",
       "    </tr>\n",
       "    <tr>\n",
       "      <td>2</td>\n",
       "      <td>146662.420195</td>\n",
       "    </tr>\n",
       "    <tr>\n",
       "      <td>3</td>\n",
       "      <td>129415.891635</td>\n",
       "    </tr>\n",
       "    <tr>\n",
       "      <td>4</td>\n",
       "      <td>137475.039691</td>\n",
       "    </tr>\n",
       "    <tr>\n",
       "      <td>5</td>\n",
       "      <td>146978.789337</td>\n",
       "    </tr>\n",
       "    <tr>\n",
       "      <td>6</td>\n",
       "      <td>152277.455319</td>\n",
       "    </tr>\n",
       "    <tr>\n",
       "      <td>7</td>\n",
       "      <td>141399.287469</td>\n",
       "    </tr>\n",
       "    <tr>\n",
       "      <td>8</td>\n",
       "      <td>120580.929851</td>\n",
       "    </tr>\n",
       "    <tr>\n",
       "      <td>9</td>\n",
       "      <td>110012.108696</td>\n",
       "    </tr>\n",
       "    <tr>\n",
       "      <td>10</td>\n",
       "      <td>111640.850877</td>\n",
       "    </tr>\n",
       "    <tr>\n",
       "      <td>11</td>\n",
       "      <td>106790.438163</td>\n",
       "    </tr>\n",
       "    <tr>\n",
       "      <td>12</td>\n",
       "      <td>108295.312211</td>\n",
       "    </tr>\n",
       "    <tr>\n",
       "      <td>13</td>\n",
       "      <td>107208.716120</td>\n",
       "    </tr>\n",
       "    <tr>\n",
       "      <td>14</td>\n",
       "      <td>104986.032407</td>\n",
       "    </tr>\n",
       "    <tr>\n",
       "      <td>15</td>\n",
       "      <td>101882.678077</td>\n",
       "    </tr>\n",
       "    <tr>\n",
       "      <td>16</td>\n",
       "      <td>100085.150995</td>\n",
       "    </tr>\n",
       "    <tr>\n",
       "      <td>17</td>\n",
       "      <td>94095.434457</td>\n",
       "    </tr>\n",
       "    <tr>\n",
       "      <td>18</td>\n",
       "      <td>94831.528736</td>\n",
       "    </tr>\n",
       "    <tr>\n",
       "      <td>19</td>\n",
       "      <td>95433.951220</td>\n",
       "    </tr>\n",
       "    <tr>\n",
       "      <td>20</td>\n",
       "      <td>107045.773810</td>\n",
       "    </tr>\n",
       "    <tr>\n",
       "      <td>21</td>\n",
       "      <td>91492.220513</td>\n",
       "    </tr>\n",
       "    <tr>\n",
       "      <td>22</td>\n",
       "      <td>88714.237410</td>\n",
       "    </tr>\n",
       "    <tr>\n",
       "      <td>23</td>\n",
       "      <td>92720.233333</td>\n",
       "    </tr>\n",
       "    <tr>\n",
       "      <td>24</td>\n",
       "      <td>82439.909091</td>\n",
       "    </tr>\n",
       "    <tr>\n",
       "      <td>25</td>\n",
       "      <td>91135.600000</td>\n",
       "    </tr>\n",
       "    <tr>\n",
       "      <td>26</td>\n",
       "      <td>75171.333333</td>\n",
       "    </tr>\n",
       "    <tr>\n",
       "      <td>27</td>\n",
       "      <td>132115.000000</td>\n",
       "    </tr>\n",
       "    <tr>\n",
       "      <td>28</td>\n",
       "      <td>81840.200000</td>\n",
       "    </tr>\n",
       "    <tr>\n",
       "      <td>29</td>\n",
       "      <td>62481.666667</td>\n",
       "    </tr>\n",
       "  </tbody>\n",
       "</table>\n",
       "</div>"
      ],
      "text/plain": [
       "                          price_per_m\n",
       "cityCenters_nearest_km               \n",
       "0                       187323.674419\n",
       "1                       166603.312500\n",
       "2                       146662.420195\n",
       "3                       129415.891635\n",
       "4                       137475.039691\n",
       "5                       146978.789337\n",
       "6                       152277.455319\n",
       "7                       141399.287469\n",
       "8                       120580.929851\n",
       "9                       110012.108696\n",
       "10                      111640.850877\n",
       "11                      106790.438163\n",
       "12                      108295.312211\n",
       "13                      107208.716120\n",
       "14                      104986.032407\n",
       "15                      101882.678077\n",
       "16                      100085.150995\n",
       "17                       94095.434457\n",
       "18                       94831.528736\n",
       "19                       95433.951220\n",
       "20                      107045.773810\n",
       "21                       91492.220513\n",
       "22                       88714.237410\n",
       "23                       92720.233333\n",
       "24                       82439.909091\n",
       "25                       91135.600000\n",
       "26                       75171.333333\n",
       "27                      132115.000000\n",
       "28                       81840.200000\n",
       "29                       62481.666667"
      ]
     },
     "execution_count": 64,
     "metadata": {},
     "output_type": "execute_result"
    },
    {
     "data": {
      "image/png": "iVBORw0KGgoAAAANSUhEUgAAAYkAAAEHCAYAAABbZ7oVAAAABHNCSVQICAgIfAhkiAAAAAlwSFlzAAALEgAACxIB0t1+/AAAADh0RVh0U29mdHdhcmUAbWF0cGxvdGxpYiB2ZXJzaW9uMy4xLjAsIGh0dHA6Ly9tYXRwbG90bGliLm9yZy+17YcXAAAgAElEQVR4nO3dd3hUVfrA8e876QkJqUAaJPTeEhCwoSJgA3VRdF1BV9fu6jZX3V111V23uPpTF13rAq6KigXsgooIAhIghA4hlAQCAdIgvZzfH3ODQ8ikTjLJ5P08Tx5mzj333HMzOm/uqWKMQSmllKqLzd0VUEop1X5pkFBKKeWUBgmllFJOaZBQSinllAYJpZRSTnm7uwKuFhkZaRISEtxdDaWU6lDWrVt31BgTVTvd44JEQkICKSkp7q6GUkp1KCKyr650bW5SSinllAYJpZRSTmmQUEop5ZTH9Ukopdq3iooKsrKyKC0tdXdVOiV/f3/i4uLw8fFpVH4NEkqpNpWVlUVwcDAJCQmIiLur06kYYzh27BhZWVkkJiY26hxtblJKtanS0lIiIiI0QLiBiBAREdGkpzgNEkqpNqcBwn2a+rv3uCBxvLTC3VVQSimP4XFB4nBhmburoJRSHsPjgkRJRRXpOSfcXQ2llAd46KGHWLp0qbur4VYeFyQAFm886O4qKKU6uKqqKh599FEmTZrk7qoA9vq4g8cNge3i583i1AP8alI/7RxTqp3780db2Hqw0KVlDo4J4eHLhtSbZ+/evUydOpWkpCTWr1/PkCFDmD9/PoMHD2bmzJksWbKE++67j88//5xLL72UGTNmsHbtWu655x6Kiorw8/Pjq6++IjAwkPvvv59ly5ZRVlbGnXfeya233lrnNZctW8ZDDz1EcHAw6enpnHfeeTz//PPYbDa+/PJLHn74YcrKyujTpw///e9/6dKlCwkJCafU55prrjmt3IkTJzJq1Ci+++47ioqKmD9/Pk888QSbNm1i5syZPP744y36fXrck0RogA97jxWTllXg7qoopdqxHTt2cMcdd7Bt2zZCQkJ4/vnnAYiIiGD9+vWnfCGXl5czc+ZMnnnmGTZu3MjSpUsJCAjg1VdfpWvXrqxdu5a1a9fy8ssvs2fPHqfX/OGHH3juuefYunUru3fv5v333+fo0aM8/vjjLF26lPXr15OcnMxTTz118py66lObr68vKSkp3HbbbUyfPp05c+awefNm5s6dy7Fjx1r0e/K4J4mQAB+KvGx8mHqAEfGh7q6OUqoeDf3F35ri4+M588wzAfjZz37Gs88+C8DMmTNPy7tjxw6io6MZM2YMACEhIQB8+eWXpKWlsXDhQgAKCgrYtWuX04lqY8eOpXfv3gBce+21rFixAn9/f7Zu3XqyLuXl5YwfP/7kOXXVp7Zp06YBMGzYMIYMGUJ0dDQAvXv3JjMzk4iIiAbLcMbjgoSXTThvYBQfbczmj5cMxsumTU5KqdPVbo6ueR8UFNToMowxPPfcc0yZMqXZ1zTGcOGFF/LWW2/VeU5j6uPn5weAzWY7+brmfWVlZaPq5ozHNTcBTB8Zy9ETZaza3bLHLKWU59q/fz+rVq0C4M033+Sss85ymnfAgAFkZ2ezdu1aAI4fP05lZSVTpkzhhRdeoKLCPj9r586dFBUVOS3nhx9+YM+ePVRXV/P2229z1llnMW7cOFauXEl6ejoARUVF7Ny501W32WIeGSTOH9iNLn7eLEo94O6qKKXaqQEDBjBnzhwGDRpEXl4et99+u9O8vr6+vP3229x9992MGDGCCy+8kNLSUm6++WYGDx7M6NGjGTp0KLfeemu9f7mPGTOGu+66i0GDBpGYmMgVV1xBVFQUc+fO5dprr2X48OGMHz+e7du3t8YtN48xpt4f4DUgB9jskDYSWA2kAinAWCtdgGeBdCANGO1wzmxgl/Uz2yE9CdhknfMsIFZ6OLDEyr8ECGuorsYYkpKSjDHG/OadVDP0oc9NSXmlUUq1H1u3bnV3FcyePXvMkCFD2vSa33zzjbnkkkva9JrO1PUZACmmju/UxjxJzAWm1kr7B/BnY8xI4CHrPcBFQD/r5xbgBQARCQceBs4AxgIPi0iYdc4LwC8czqu51v3AV8aYfsBX1vtGmz4yhuNllSzbkdOU05RSSjlosOPaGLNcRBJqJwMh1uuuQM3stenAfCsqrRaRUBGJBiYCS4wxuQAisgSYKiLLgBBjzGorfT5wOfCZVdZEq9x5wDLg9429sfG9I4js4sei1INMHRrd2NOUUp1AQkICmzdvbpWyN23axPXXX39Kmp+fH2vWrGHixInNLvfOO+9k5cqVp6Tdc8893Hjjjc0uszGaO7rpXuALEXkSe7/GBCs9Fsh0yJdlpdWXnlVHOkB3Y0y29foQ0N1ZZUTkFuxPLvTs2RMAby8blw6P5s0f9lNYWkGIf+M22FBKtT5jjMdOdh02bBipqakuL3fOnDkuKcf+N3zjNbfj+nbgV8aYeOBXwKvNLKdRrCcTp3dmjHnJGJNsjEmOioo6mT59ZAzlldV8sflQa1ZPKdUE/v7+HDt2rMlfVqrljLXpkL+/f6PPae6TxGzgHuv1u8Ar1usDQLxDvjgr7QA/Nh3VpC+z0uPqyA9wWESijTHZVpNVkzsXRsaH0jM8kMUbD3JVcnzDJyilWl1cXBxZWVkcOXLE3VXplGq2L22s5gaJg8C52L/oz8c+AglgMXCXiCzA3kldYH3JfwH81aGzejLwgDEmV0QKRWQcsAaYBTznUNZs4G/Wv4uaWkkRYfrIGOZ8k07O8VK6BTc+eiqlWoePj0+jt85U7tdgc5OIvAWsAgaISJaI3IR9NNK/RGQj8Fes/gDgUyAD+3DWl4E7AKwO68eAtdbPozWd2FaeV6xzdmPvtAZ7cLhQRHYBk6z3TTZ9ZAzVBj5Jy244s1JKqVOIp7ULJicnm5SUlFPSLn7mO3y9bXx455luqpVSSrVvIrLOGJNcO90jZ1zXNn1kDKmZ+ew75ny6vFJKqdN1iiBx2YgYRGBxqm5GpJRSTdEpgkRMaABjE8L5MPWADrtTSqkm6BRBAuwrw+4+UsQWF++CpZRSnqzTBImLhvbAx0t0/2ullGqCThMkwoJ8Obd/FItTD1JdrU1OSinVGJ0mSABMGxnLocJSftib23BmpZRSnStITBrUjUBfLxbpKCellGqUThUkAn29mTy4O59uyqa8strd1VFKqXavUwUJsI9yKiipYPlOXVxMKaUa0umCxFn9IgkL9GGRjnJSSqkGdbog4eNl45Lh0SzZeoiiMucbliullOqEQQLsTU6lFdUs2XrY3VVRSql2rVMGiaSeYcSGBrAo9UDDmZVSqhPrlEHCZhOmjYxh+a6jHDtR5u7qKKVUu9UpgwTYlw+vqjZ8rJsRKaWUU502SAzsEcKg6BDe36BNTkop5UynDRIAPxkdy8bMfNJzTri7Kkop1S516iAxbWQMNoEPNmS5uypKKdUudeog0S3Yn7P7RfHhBl0ZViml6tKpgwTAlaNjOZBfwpo9ujKsUkrV1umDxOTBPeji561NTkopVYcGg4SIvCYiOSKyuVb63SKyXUS2iMg/HNIfEJF0EdkhIlMc0qdaaekicr9DeqKIrLHS3xYRXyvdz3qfbh1PcMUN1xbg68VFQ3vw6aZDlJRXtcYllFKqw2rMk8RcYKpjgoicB0wHRhhjhgBPWumDgWuAIdY5z4uIl4h4AXOAi4DBwLVWXoC/A08bY/oCecBNVvpNQJ6V/rSVr1VcMTqWE2WVfLn1UGtdQimlOqQGg4QxZjlQu8H+duBvxpgyK0+OlT4dWGCMKTPG7AHSgbHWT7oxJsMYUw4sAKaLiADnAwut8+cBlzuUNc96vRC4wMrvcuMSI4jp6s8HOmdCKaVO0dw+if7A2VYz0LciMsZKjwUyHfJlWWnO0iOAfGNMZa30U8qyjhdY+V3OZhOuGB3L8p1HyDle2hqXUEqpDqm5QcIbCAfGAb8D3mmtv/IbQ0RuEZEUEUk5cqR5mwldMSqOagOLdWtTpZQ6qblBIgt439j9AFQDkcABIN4hX5yV5iz9GBAqIt610nE8xzre1cp/GmPMS8aYZGNMclRUVLNuqG+3LoyI68r767XJSSmlajQ3SHwInAcgIv0BX+AosBi4xhqZlAj0A34A1gL9rJFMvtg7txcbYwzwDTDDKnc2sMh6vdh6j3X8ayt/q7liVCxbswvZfqiwNS+jlFIdRmOGwL4FrAIGiEiWiNwEvAb0tobFLgBmW08VW4B3gK3A58Cdxpgqq0/hLuALYBvwjpUX4PfAr0UkHXufw6tW+qtAhJX+a+DksNnWctmIGLxtwgf6NKGUUgBIK/9x3uaSk5NNSkpKs8+/eV4KaVn5rHrgArxsbutmUUqpNiUi64wxybXTO/2M69quHB1LzvEyVqYfdXdVlFLK7TRI1HL+wG6E+HvrnAmllEKDxGn8fby4ZHgMn28+RFFZZcMnKKWUB9MgUYefjI6lpKKKzzfrMh1Kqc5Ng0QdknqF0TM8kPd1ZVilVCenQaIOIsIVo2L5fvcxsgtK3F0dpZRyGw0STlw5OhZj4MMNHXeZjtKKKh5ZvIWZL66iuFz7V5RSTadBwoleEUEk9Qrj/fVZdMS5JLsOH+fyOSuZ+/1e1uzJ5e+fbXd3lZRSHZAGiXpcOTqWXTkn2Hyg4yzTYYzhzTX7uezfKzhyvIz/3jiGGyYkMG/VPlbtrnPpK6WUckqDRD0uHRaDr5etw3RgFxRXcMcb63nwg02MSQjns3vP5rwB3bhv6gASIgL53cKNOqxXKdUkGiTq0TXQhwsGdWNx6kEqqqrdXZ16rd2by0XPLGfJ1sM8cNFA5t04lm7B/gAE+nrzz6tGcCC/hL9ps5NSqgk0SDTgytFxHCsq57tdzdunorVVVRueWbqLmS+uwsfbxnu3T+DWc/tgq7Xu1JiEcH5+ZiKvr97H97rkiFKqkTRINODc/lGEBfrwXjtcGTa7oIRrX17N00t3Mm1EDB/ffRYj4kOd5v/t5AEkRgbxu4VpnNBmJ6VUI2iQaICvt41pI2JYsvUwBSUV7q7OSV9sOcRFz3zHlgMFPHX1CP7vmlEE+/vUe06ArxdPXjWcgwUl/PXTbW1UU6VUR6ZBohGuGB1HeWU1n23KdndVqK42PLRoM7e+vo74sEA+/uXZXDk6rtHnJ/UK5+azEnlzzf5224SmlGo/NEg0woi4rvSOCuLdde4f5fTc1+nMX7WPn5+ZyHu3TyAxMqjJZfxm8gB6RwXx+4VpHC9tP09HSqn2R4NEI4gI147pybp9eWw5WOC2eny36wj/99VOrhgVy58uHYSvd/M+Pn8fL568agSHCkv5yyfa7KSUck6DRCNdlRyHv4+N11ftc8v1swtKuGdBKv26deEvVwxFpGW75o3uGcYvzunNgrWZfLtTm52UUnXTINFIoYG+XD4ylg9TD5BfXN6m1y6vrObON9ZTVlHFCz9LItDX2yXl/mpSf/p268L976VRqM1OSqk6aJBoglnjEyitqObdlLbtm/jbZ9tZvz+fv88YTp+oLi4rt6bZ6XBhKY9/vNVl5SqlPIcGiSYYHBPC2IRw5q/eS1V12yz69+mmbF5buYcbJiRw6fAYl5c/Mj6U287twzspWXyzPcfl5SulOjYNEk00a0IvMnNLWLaj9b9QM46c4L6FaYzqGcqDFw9qtevcM6kf/bt34f730ygo1mYnpdSPNEg00ZQhPege4se8Vu7ALimv4vb/rcfHS5jz09HNHsnUGH7e9manoyfKeVSbnZRSDhr85hGR10QkR0Q213HsNyJiRCTSei8i8qyIpItImoiMdsg7W0R2WT+zHdKTRGSTdc6zYg3bEZFwEVli5V8iImGuueWW8fGycd0ZvVi+8wgZR060yjWMMfzhw03szDnOM9eMIiY0oFWu42h4XCi3n9uH99Zn8U0bPCUppTqGxvx5OheYWjtRROKBycB+h+SLgH7Wzy3AC1becOBh4AxgLPCww5f+C8AvHM6rudb9wFfGmH7AV9b7duGasfH4eAmvr26dp4kFazN5f/0B7rmgH+f0j2qVa9Tl7gv6EhsawNyVe9vsmkqp9q3BIGGMWQ7k1nHoaeA+wLEHdzow39itBkJFJBqYAiwxxuQaY/KAJcBU61iIMWa1sW//Nh+43KGsedbreQ7pbtct2J+Lh0WzMCXL5fszbD5QwMOLt3B2v0juPr+fS8tuiJ+3F9NGxrAi/SjHTpS16bWVUu1Tsxq6RWQ6cMAYs7HWoVgg0+F9lpVWX3pWHekA3Y0xNYslHQK611OfW0QkRURSjhxpm4lhs8YncLyskvc3uG512ILiCm5/Yx0RQb48c80ovGwtmzDXHNNGxFBVbfi0HaxTpZRyvyYHCREJBB4EHnJ9depmPWU4HXNqjHnJGJNsjEmOimqb5pnRPUMZFtuV+d/vdcke2NXVht+8m0p2filzrhtNeJCvC2rZdAN7BNO/excWpR50y/WVUu1Lc54k+gCJwEYR2QvEAetFpAdwAIh3yBtnpdWXHldHOsBhqzkK69921ZsqIswa34tdOSdYldHyvaNf+i6Dpdty+MMlgxjd03199CLC9JGxpOzLIyuv2G31UEq1D00OEsaYTcaYbsaYBGNMAvYmotHGmEPAYmCWNcppHFBgNRl9AUwWkTCrw3oy8IV1rFBExlmjmmYBi6xLLQZqRkHNdkhvNy4bEUNYoA/zvt/bonJW7T7GP7/YwSXDo7lhQoJL6tYS00bYJ+19tFGbnJTq7BozBPYtYBUwQESyROSmerJ/CmQA6cDLwB0Axphc4DFgrfXzqJWGlecV65zdwGdW+t+AC0VkFzDJet+u+Pt4cc3YnizZepgD+SXNKmPn4ePc9r91JEQE8vefDG/xwn2uEB8eyKieoSxKbX+78Sml2pa4oj29PUlOTjYpKSltdr2svGLO+cc33HZuH+6bOrBJ5x7ML+EnL3xPVbXhvdsnEB8e2Eq1bLq5K/fwyEdb+fJX59C/e7C7q6OUamUiss4Yk1w7XWdct1BcWCCTBnVnwdpMSiuqGn1efnE5s177gROllcz7+dh2FSAALhkeg01gsXZgK9WpaZBwgdkTEsgtKueTtMa14ZeUV/HzuWvZn1vMy7OTGRQd0so1bLqoYD/O7BvJoo0HXDJ6SynVMWmQcIEJfSLo260L81Y1PBy2oqqaO99cz4bMfJ69ZiTjeke0TSWbYdqIGDJzS9iQme/uqiil3ESDhAuICLPH9yItq4DUer5QjTE8+P4mvt6ew2PThzJ1aHQb1rLppgztga+3TZuclOrENEi4yBWj4+ji5838elaH/ecXO3h3XRb3XNCPn43r1Ya1a54Qfx/OH9CNj9Oyqayqdnd1lFJuoEHCRbr4eTMjKY5P0rI5cvz0dY/+u3IPzy/bzbVje3LvpLZdk6klpo+M4eiJMpdMGFRKdTwaJFzo+vG9KK+q5u21+09JX7zxII9+vJUpQ7rz+OVD28VciMY6b2A3gv28tclJKTcqLq/k/H8tY8Wuo21+bQ0SLtQnqgtn94vkf6v3U2E1z6zYdZTfvJPKmIRwty3a1xL+Pl5MHtKDzzcfatIQX6WU62QcKSLjSBErd2uQ6PBmj0/gUGEpS7YeZlNWAbe+nkKfqC68PCsZfx8vd1evWaaPjOF4WWWbbNmqlDpdzTpqe48Wtfm1vdv8ih7uvIHdiAsL4N9fp5NzvJTQQF/m/XwsXQN83F21ZpvQJ4LILr4s3niw3Y/IUsoTZebal/3Z44YgoU8SLuZls68OuzW7kKpqw/ybxtI9xN/d1WoRby8blwyLZum2HI6XVri7Okp1OpnWk8S+Y8VtPrlVg0QrmDmmJ1eOimXujWPpE9XF3dVxiWkjYymvrOaLLYfdXRWlOp3MXHuQKKmo4nBh2+4aqUGiFXQN8OGpmSMZER/q7qq4zOieocSFBbB4o45yUqqtZeWVEOJv7x1o6yYnDRKqUUSEaSNiWJl+tM55IEqp1mGMISuvhDP7RgKw95gGCdVOTR8Zq/tfK9XGjp4op6SiijEJ4fh62/RJQrVfA3oEM7BHsDY5KdWGajqte0UE0is8UIOEat8uGxHDun15JzvSlFKtKyvPPvw1PjyQhMigNp8roUFCNUnN/tf6NKFU26j5gywuLIDEyCD25RZTXd12w2A1SKgmiQ8PJKlXGB9pkFCqTWTlFRMR5EugrzcJEUGUV1ZzsKCkza6vQUI12bQRMWw/dJzthwrdXRWlPF5mbglx1vbGiZFBAOw92nbNvRokVJNdPCwaL5voyrBKtYHMvGLiwwKAH4PEnjYcBqtBQjVZzf7Xizce1P2vlWpFVdWGg/klxFtPEt1D/Ajw8WLPEQ0Sqp2bNiKGrLwS1u/X/a+Vai2HC0upqDLEh9mDhIjQKyKwTSfUNRgkROQ1EckRkc0Oaf8Uke0ikiYiH4hIqMOxB0QkXUR2iMgUh/SpVlq6iNzvkJ4oImus9LdFxNdK97Pep1vHE1x106rlpgzpbu1/fcDdVVHKYzmObKqR2MbDYBvzJDEXmForbQkw1BgzHNgJPAAgIoOBa4Ah1jnPi4iXiHgBc4CLgMHAtVZegL8DTxtj+gJ5wE1W+k1AnpX+tJVPtRPB/j5MGtSNTzZl62ZESrWSTIc5EjUSIoPYn1vcZvvONxgkjDHLgdxaaV8aYyqtt6uBOOv1dGCBMabMGLMHSAfGWj/pxpgMY0w5sACYLvZ9PM8HFlrnzwMudyhrnvV6IXCBdKR9PzuB68clcPREOf/8Yoe7q6KUR8rKK0YEYkJ/3G4gMSKIymrDgfy2GQbrij6JnwOfWa9jgUyHY1lWmrP0CCDfIeDUpJ9SlnW8wMp/GhG5RURSRCTlyJEjLb4h1Tjj+0Rw/bhevLpiD9+7YVtFpTxdZm4JPUL88fP+cVfLhJoRTm3U5NSiICEifwAqgTdcU53mMca8ZIxJNsYkR0VFubMqnc4DFw8kMTKI372bRqFuSKSUS2XmFZ/SHwGOcyXaeZAQkRuAS4HrzI/jIA8A8Q7Z4qw0Z+nHgFAR8a6VfkpZ1vGuVn7VjgT6evOvq0eQXVDCnxdvdXd1lPIoWbnFJ0c21Yjs4ksXP2/2HmubCXXNChIiMhW4D5hmjHGs6WLgGmtkUiLQD/gBWAv0s0Yy+WLv3F5sBZdvgBnW+bOBRQ5lzbZezwC+Njoov10a3TOMO8/ry3vrs/h88yF3V0cpj1BeWU12YenJ2dY1RISEyEAy2suThIi8BawCBohIlojcBPwbCAaWiEiqiPwHwBizBXgH2Ap8DtxpjKmy+hTuAr4AtgHvWHkBfg/8WkTSsfc5vGqlvwpEWOm/Bk4Om1Xtz93n92NITAgPfrBJNyVSygWyC0owhpOzrR0lRLTdMFjvhjIYY66tI/nVOtJq8v8F+Esd6Z8Cn9aRnoF99FPt9FLgqobqp9oHX28b/zdzJJc8t4IH3k/j5VnJ6GA0pZovM/f04a81EiOD+HRTNuWV1fh6t+6caJ1xrVymX/dg7psygKXbcng3Jcvd1VGqQ6vZbKh2xzXYnySqzY95WpMGCeVSPz8zkXG9w/nzR1t0YyKlWiAztxhvmxDdtY4g0YYjnDRIKJey2YQnrxqBiPCbdzdS1YaboyjlSbLySogJDcDLdnqzbe82nCuhQUK5XFxYIA9fNpgf9uTy6ooMd1dHqQ4pM6+Y+PDTnyIAwoJ86Rrg0yYL/WmQUK1iRlIckwd358kvdrLj0HF3V0epDiczt+S0ORKOEiKD9ElCdVwiwhNXDiMkwJt7306lvLJtFiNTyhOUlFdx9ERZnZ3WNRIjAttkhzoNEqrVRHTx44krh7Mtu5BnvtrZqHOqqg3bDxXy5pr9PLN0F8dO6JwL1flkWaOW6hr+WiMhMoiDBSWtvgpzg/MklGqJCwd35+rkOF5YtpvzB3YjqVf4KccLiivYkJnH+v35rN+XR2pmPifKKk8en7dqL49NH8olw6PbuOZKuU+WtUR4XD3NTYmRQRgD+3OL6d89uNXqokFCtbo/XTqY73cf49fvbGTOT0ez5WAB6/fls25/Huk5JwCwCQzsEcLlo2IY3TOM0T3DKKus5ncLN3Lnm+v5ZFMPHp0+lMgufm6+G6VaX+bJJwnnzU0JET+OcNIgoTq0YH8fnrxqBNe+vJpLn1sBQGigD6N7hnH5SHtQGB4fShe/0/9zfP/2Cby4PINnlu5idcZyHp0+hEuHx7T1LSjVpjJzi/HzthFVzx9FbTVXQoOEahPjekfwwnVJHC+tYHSvMHpHBjVq2Q5vLxt3nteXCwd353fvbuSuNzfw6aZsfapQHi0zt4S4sIB6/x/pGuBDRJBvqw+D1SCh2szUoT2afW7/7sG8d/sEXv5uD08v2cmq3d/y6PShXDo8uslrROUUlrL7SBHRXf2JCwvA20vHb6j2JSu/uN5O6xptMQxWg4TqMLy9bNw+sQ+TBnXjtwvTuPutDXySls1jlw8lKrjup4r84nI2HSggLauAjZn5pGUVcKiw9McybULPiEB6RwbRO6oLiZFBJEYG0TsyiKhgP12kULlFZm4Jo+LDGsyXEBHEivTW3Y1Tg4TqcPp1D+a928affKpY8/S3/Hn6UCYN6sbmA4WkZeWzMauAtKx89jlszJIYGcQZvcMZHhdK325dyCksJeNoEXuOFLHnaBHLdx09ZT5HFz/vk0FjWGxXLhjUjd5RXdxxyx3egfwSwgN9CfD1ajhzJ1dYWkFBSUW9ndY1EiMDeW99GcXllQT6ts7XuQYJ1SHVfqr45VsbEIGabaliuvozPC6UmWPiGREXytDYrnQN8Km3zOpqw8GCEvYctQeNDCt4bMjMY/HGg/zl0230jgriwkHdmTS4O6N7htW5ro46VVZeMZOfXs6EPhG8MnuMu6vT7tUsjFnf8NcaP3ZeFzM4JqRV6qNBQnVoNU8VC9ZmknO8jBFxXRkeF+q0+ak+NpsQFxZIXFggZ/c7da/0A/klfLXtMEu2Hua1lXt4cXkG4UG+nDegGxcO7sbZ/aIIqmN0VmdnjOGhRVsoLq9i6bYcth8qZGCP1vky8xQn9wrSk00AAB3LSURBVJFoTJCwhsHuPVakQUIpZ7y9bPxsXK9WvUZsaACzxicwa3wCx0srWL7zKEu3HWbptsO8tz4LX28bE/pEMGlQdyYN6k6Prv6tWp+O4tNNh/h6ew53ndfXHly/zeDpmSPdXa12LasRcyRqJLTBarAaJJRqomB/Hy4ZHs0lw6OprKpm7d68kwHjjx9u5o8fbubc/lHcMCGBc/tHYeukTVKFpRU88tEWhsaGcO+kfpRUVDH3+738+sL+jRq501ll5ZUQ7OfdYPMo2PvNooL9WnWuhI79U6oFvL1sjO8TwZ8uHcyy305kya/O4Z4L+rEtu5Ab567l/H8t49UVeygsrXB3VdvcPz7fzrETZTxxxXC8vWzcfHYiNoFXvtPl4+uTmVtMbANzJBwlRga16lwJDRJKuYiI0K97ML+6sD8rfn8+z147iogufjz28VbG/fUr/vjhJnYd7hzLpq/bl8cba/Zzw4REhsV1BSC6awCXj4xlwdpMjurCjU7Z95Fo/JNWYkTrzpXQIKFUK/D1tjFtRAzv3T6Bj+8+i4uHRfNOShYXPr2c615ZzZdbDnnsrn0VVdU8+P4meoT48+vJ/U85duu5vSmvqmbe93vdU7l2zhhDVl79+0jUlhAZxNET5RxvpadVDRJKtbKhsV158qoRrH7gAn43ZQB7jhRxy+vrOPef3/Dit7vJLSp3dxVd6uXvMthx+DiPTh962npcfbsFM3lwd+Z9v/eU1X6VXW5ROcXlVY3qtK6RGGkPKK21t0SDQUJEXhORHBHZ7JAWLiJLRGSX9W+YlS4i8qyIpItImoiMdjhntpV/l4jMdkhPEpFN1jnPitUQ5+waSnVU4UG+3HleX5bfdx7/+dlo4sICeOKz7SQ9voSLnvmORxZv4fPN2R06aOw7VsQzS3cxdUgPLhzcvc48t53bh8LSSt5as7+Na9f+ZeY1fvhrjZMjnFqpX6IxTxJzgam10u4HvjLG9AO+st4DXAT0s35uAV4A+xc+8DBwBjAWeNjhS/8F4BcO501t4BpKdWjeXjamDo1mwS3j+fzes/nVpP6EB/mwYO1+bvvfekY/toQpTy/noUWb+SQtmyPHO0b7vTGGP364GR8vG49MG+I036ieYYzvHcErKzIoq2zdDXM6mpMT6ZrwJNErvHVXg21wCKwxZrmIJNRKng5MtF7PA5YBv7fS5xtjDLBaREJFJNrKu8QYkwsgIkuAqSKyDAgxxqy20ucDlwOf1XMNpTzGwB4h1uSyfpRXVpOWlc+aPbmszjjGwnVZzF+1D4A+UUGc0TuCcb0jmDy4O/4+7W95i8UbD/LdrqP8edqQBueJ3D6xD7Ne+4EPNxxg5piebVTD9u/kPhJNeJII8PUiuqu/+4KEE92NMdnW60NAzXNlLJDpkC/LSqsvPauO9PquoZRH8vW2kZwQTnJCOHee15eKqmo2HyhgzZ5c1mQc46PUg7y5Zj8j4rry0qxkuoe0nwl7+cXlPPrRVkbGhzZqYuPZ/SIZEhPCi99mMCMpXpc3sWTllRAe5Nvk2fuJkUFubW6ql/XU0KrDNBq6hojcIiIpIpJy5EjrroioVFvx8bIxqmcYt53bh//eOJbUhycz56ej2ZVzgsueW0FqZr67q3jSE59uJ7+kgieuHNaoL3wR4faJfcg4WsSXWw61QQ07hszcYuLDGt/UVCMhMqjVniSaGyQOW81IWP/mWOkHgHiHfHFWWn3pcXWk13eN0xhjXjLGJBtjkqOiopxlU6pD87IJlwyP5v07JuDrbePqF1fx4YYDDZ/YytZkHOPtlExuPjuRQdGNXz/ooqHR9IoI5IVvd2OMZw4HbqqsvJJGLexXW2JEEHnFFeQXu37QQ3ODxGKgZoTSbGCRQ/osa5TTOKDAajL6ApgsImFWh/Vk4AvrWKGIjLNGNc2qVVZd11CqUxvYI4TFd53FqPhQ7n07lb99tt1tcy7KKqt48INNxIUFcM8F/Zp0rpdNuPWcPqRlFfD97mOtVMOOo7racCCvpEmd1jVacw2nxgyBfQtYBQwQkSwRuQn4G3ChiOwCJlnvAT4FMoB04GXgDgCrw/oxYK3182hNJ7aV5xXrnN3YO62p5xpKdXrhQb787+YzuO6Mnvzn2938Yn5Kq02mqs9/lmWw+0gRj18+tFn7GVw5OpaoYD9eWLa7FWrXsRw+Xkp5VXWTOq1rnJwr0Qr9Eo0Z3XStk0MX1JHXAHc6Kec14LU60lOAoXWkH6vrGkopOx8vG3+5YhgDo0P48+ItXPH897wyK/nkX5WtbfeRE8z5Jp3LRsQwcUC3ZpXh7+PFTWcl8rfPtpOWlc/wuFAX17LjyKqZI9GMxQ/jwwOxCexphQl1OuNaqQ7u+nG9mH/TWI6eKGP6nJWsTD/a6tc0xvCHDzbh72PjT5cOalFZ153Rk2B/b/7zbed+mqiZI9Gcjms/by9iQgNapfNalwpXygNM6BPJ4jvP4hfzU5j12g/86ZJBzJ6Q0OQ9uksrqsgtKie3qJxjReUcO1F28nXuCevfojKOnCgjM7eEv14xjG7BLRuKG+zvw/XjevHCt7vJOHKi024RW7PZUExo04MEtN5qsBoklPIQPSMCee+OCdy7IJVHPtrKjsPH+fO0ofh62yitqOJwYSmHC8vIOW79W1h6Mu3w8VJyCsucrqfkbRPCgnyJCPIloosvI+PD+OnYXlwzJr7O/E1145mJvLJiDy8tz+BvPxnukjI7msy8YrqH+DV7omRiZBAfbDiAMabJfxzUR4OEUh6ki583L12fxFNLdvLvb9JZui2HsooqCktP//L39bbRPcSPbsH+DOwRzDn9oojs4ktEFz/CrYBg/9ePkABvl37x1BYV7MfVyXG8vTaTeyf175Q7+2XlFTer07pGQkQQx0sryS0qJ6JL07fvdUaDhFIexmYTfjtlAENiQvh4UzaRQb50C/GnW7Af3UP8rR8/ugb4tOoXf1PdcnYf3lyzn9dW7uHBi1vWz9ERZeaWMDYxvNnnJzoMg9UgoZRq0EXDorloWLS7q9FoPSMCuXR4DG+s3sedE/vSNbDh7TubavOBAj5Oy+b2c/u0SvnNVVFVTXZBCXHN6LSu4ThXIjmh+cGmNh3dpJRqN247tw9F5VW8vnqvS8vNyivm3gUbuPS5Ffzn2908+MGmdjXLOzu/lGrTtIX9aosLC8DLJi7vvNYnCaVUuzE4JoSJA6J4beVe+ncP5ryB3fDxav7fsgXFFcxZls7clXsRgTsm9sHLJjz3dTrnre/GjKS4hgtpgvLKany9m17fmtVfmzPbuoaPl434sACXbz6kQUIp1a78dvIAbpy7llteX0dkF1+uGBXLVcnx9O8e3OgyyiqreH3VPp77Op3C0gquHBXHbyb3JyY0gKpqww97cnl40WbGJITRK8I1kw+XbD3ML9/awL9/OooLBjVt0eqsZiwRXpeESNfvd63NTUqpdmVobFe+v/98XpmVzOieYfx35V4mP72c6XNW8saafRTWs/xIdbVh8caDTHrqWx7/ZBvD47ryyd1n86+rR5ycf+BlE56aORKbTbj37VQqq6pbXOetBwu5Z8EGSiqqeParXU1uysrMLcHLJkS3cFRXzVwJVzalaZBQSrU7Pl42Jg3uzkuzkln94AX88ZJBlJRX8ocPNjPm8aXcu2ADK9OPUu2wsOHqjGNc8fxKfvnWBoJ8vZn/87G8ftMZDI45fWXa2NAA/nrFMDbsz+e5r9NbVNec46XcPG8tIf4+/PKCfmzMsu8B0hSZecVEd/XHuwVNa2APEsXlVS7dzVCbm5RS7VpkFz9uPrs3N52VSFpWAe+uy2RR6kE+TD1IbGgAP0mKY+vBApZuyyG6qz9PXjWCK0bFNrivxWUjYvhmew7Pfb2Lc/pHktSr6SOCSiuquGX+OvKKK3j3tvH07daFN1bv46XlGYzrHdHocuz7SLSsqQnscyUAMo4W0c1Fm1Lpk4RSqkMQEUbEh/L45cNY+4dJPHPNSBIjg3ju612sycjlvqkD+Oa3E5mRFNfone7+PH0IsWEB3Pt2apNX0TXGcN/CNFIz83l65giGxnbF38eLWeMT+Hp7DrsOH290WVl5JcS3oNO6Rs1cCVeu4aRBQinV4fj7eDF9ZCz/u/kM1jxwASsfOJ87JvZt8pIWwf4+PH31SA7klfDI4q1NOve5r9NZvPEgv5sygKlDf5yPcv34Xvj72HhpeUajyimtqCLneJlLniRiQgPw9bK5dCtTDRJKqQ6tW4g/If7NnxiXnBDOXef34731WXycdrBR53ySls1TS3Zy5ahY7pjY55Rj4UG+XJUUz4epBzhcWNpgWS1ZIrw2L5sQH+7a1WA1SCilOr1fnt+XkfGhPPj+Jg7ml9SbNy0rn9+8m0pSrzCe+MmwOpc2ufnsRKqqDf9dubfBa5+cI9GC2daOEiODXDpXQoOEUqrT8/ay8cw1I6mqNvz6nVSn28FmF5Rw87wUIoL8ePH6JPy8627e6hURxNShPXhjzT6nK+vWyKrZR8IFTxJg77zee6zolJFfLaFBQimlsH+xPzxtCKszcnn5u9P7E4rLK/nF/BSKyip59YZkIhtYRO+Wc/pwvLSSBT/srzdfVl4Jvt42oly0KF9iVBBlldUcakRTV2NokFBKKctVSXFcPKwH//pyB5sPFJxMr642/PrtjWw5WMhzPx3FwB6nz72obWR8KGMTw3ltxR4q6pmwl5lXTFxYALZGjshqSGKEa0c4aZBQSimLiPDXK4YREeTHLxdsoKS8CoCnluzk8y2H+MPFgzh/YOOX3Lj1nN4cLCjlk7Rsp3kyc0uIc8HIpho1q8FmaJBQSinXCw305amrR7DnaBGPf7KVDzZk8e9v0rlmTDw3nZXYpLLOG9CNvt268OLyDKdLZWTmFTdrX2tneoT44+dt0ycJpZRqLRP6RvKLs3vzxpr93LcwjXG9w3l0+tAmb9Jkswm3nN2bbdmFrEg/etrx46UV5BdXuKzTuuaaNZ3XLinPJaUopZSH+c3k/gyP60pcWCAvXJfUrCXAAaaPiqFbsF+dk+tOzpFwYXMTQEJkoMtWg21RkBCRX4nIFhHZLCJviYi/iCSKyBoRSReRt0XE18rrZ71Pt44nOJTzgJW+Q0SmOKRPtdLSReT+ltRVKaWaws/bi3dvG8/n955NWJBvi8q54cwEvtt1lC0HC045lnly+KvrmpsABnQPZu+xYo6daPlCf80OEiISC/wSSDbGDAW8gGuAvwNPG2P6AnnATdYpNwF5VvrTVj5EZLB13hBgKvC8iHiJiBcwB7gIGAxca+VVSqk24eft5XQuRFNcd0Yvgny9eLnW00Sm9SThyo5rgEuGx1BVbfgwtXEzyOvT0uYmbyBARLyBQCAbOB9YaB2fB1xuvZ5uvcc6foHYG/imAwuMMWXGmD1AOjDW+kk3xmQYY8qBBVZepZTqULoG+DBzTE8+SsvmgMOM7szcYoJ8vQhz8X7bA3oEMzyuKwvXZbW4rGYHCWPMAeBJYD/24FAArAPyjTE1UwyzgFjrdSyQaZ1baeWPcEyvdY6z9NOIyC0ikiIiKUeOHGnuLSmlVKv5+VkJALy2Ys/JNPvqr4FN7hBvjKuS4tiWXXjKfI/maElzUxj2v+wTgRggCHtzUZszxrxkjEk2xiRHRUW5owpKKVWvuLBALh0ezYIf9lNQYl+WPCuv2OVNTTUuGxGDr5etxU8TLWlumgTsMcYcMcZUAO8DZwKhVvMTQBxwwHp9AIgHsI53BY45ptc6x1m6Ukp1SLec05ui8ireWLMPYwyZucUuW9ivttBAXy4c0p1FqQcor2z+Fq0tCRL7gXEiEmj1LVwAbAW+AWZYeWYDi6zXi633WMe/NvbZJYuBa6zRT4lAP+AHYC3Qzxot5Yu9c3txC+qrlFJuNSSmK2f1jWTuyr3kHC+jqLzKpXMkapuRFEdecQVfbz/c7DJa0iexBnsH9Hpgk1XWS8DvgV+LSDr2PodXrVNeBSKs9F8D91vlbAHewR5gPgfuNMZUWf0WdwFfANuAd6y8SinVYd1yTm9yjpfxb2tvbVfOtq7t7L6RdAv2a1GTU4v2uDbGPAw8XCs5A/vIpNp5S4GrnJTzF+AvdaR/CnzakjoqpVR7cna/SAZFh/DGmn2A65YIr4u3l40rR8fx8ncZ5BwvpVtw0/e91hnXSinVhkSEW85JpGa7h9bqk6gxIymOqmrDog3NmzOhQUIppdrYpcNjiOnqT2igD8Et2Hq1Mfp268KonqEsXJfldJHB+miQUEqpNubjZeOJnwznd1MGtMn1ZiTFsePwcTY1Y86EBgmllHKDc/tHcd0ZvdrkWpcOj8HPu3lzJjRIKKWUh+sa4MOUIT1YlHqQ0oqqJp2rQUIppTqBGUlxFJRU8NW2nCadp0FCKaU6gTP7RhLd1Z+F6zIbzuxAg4RSSnUCXjbhytGxfLvzCIcLSxt9ngYJpZTqJGYkxVNt4IMNjV8GT4OEUkp1EomRQST3CuPdlMxGz5nQIKGUUp3IjKQ4dh8pIjUzv1H5NUgopVQncsnwaPx9bLzbyDkTGiSUUqoTCfb34aKh0Xy0sXFzJjRIKKVUJ3NVUhzHSyv5cmvD+0xokFBKqU5mXO8IYkMDeDel4TkTGiSUUqqTsdmEn4yOZUX6UbILSurP20Z1Ukop1Y78JCkOY+D99fXPmdAgoZRSnVCviCDGJoY3uM+EBgmllOqkrkqKY8/RItbvz3OaR4OEUkp1UhcPiybQ14t3U5zPmdAgoZRSnVSQnzcXD4vm47Rsp3k0SCilVCc2IymOE2WVTo9rkFBKqU5sbEI4YxLCnB5vUZAQkVARWSgi20Vkm4iMF5FwEVkiIrusf8OsvCIiz4pIuoikichoh3JmW/l3ichsh/QkEdlknfOsiEhL6quUUupUNpvw7m0TnB9vYfnPAJ8bYwYCI4BtwP3AV8aYfsBX1nuAi4B+1s8twAsAIhIOPAycAYwFHq4JLFaeXzicN7WF9VVKKdUEzQ4SItIVOAd4FcAYU26MyQemA/OsbPOAy63X04H5xm41ECoi0cAUYIkxJtcYkwcsAaZax0KMMauNfRDvfIeylFJKtYGWPEkkAkeA/4rIBhF5RUSCgO7GmJqu8kNAd+t1LOC4UEiWlVZfelYd6acRkVtEJEVEUo4cOdKCW1JKKeWoJUHCGxgNvGCMGQUU8WPTEgDWE0Djtj9qAWPMS8aYZGNMclRUVGtfTimlOo2WBIksIMsYs8Z6vxB70DhsNRVh/ZtjHT8AxDucH2el1ZceV0e6UkqpNtLsIGGMOQRkisgAK+kCYCuwGKgZoTQbWGS9XgzMskY5jQMKrGapL4DJIhJmdVhPBr6wjhWKyDhrVNMsh7KUUkq1Ae8Wnn838IaI+AIZwI3YA887InITsA+42sr7KXAxkA4UW3kxxuSKyGPAWivfo8aYXOv1HcBcIAD4zPpRSinVRqS+1f86ouTkZJOSkuLuaiilVIciIuuMMcmnpXtakBCR48AOd9ejDUQCR91diVbWGe4R9D49TUe9z17GmNNG/rS0uak92lFXNPQ0IpLi6ffZGe4R9D49jafdp67dpJRSyikNEkoppZzyxCDxkrsr0EY6w312hnsEvU9P41H36XEd10oppVzHE58klFJKuYgGCaWUUk55TJAQkakissPaoOj+hs/omERkr7URU6qIeMysQRF5TURyRGSzQ1qdG1h1ZE7u8xEROWB9pqkicrE769hSIhIvIt+IyFYR2SIi91jpHvV51nOfnvV5ekKfhIh4ATuBC7EvPLgWuNYYs9WtFWsFIrIXSDbGdMTJOk6JyDnACex7jgy10v4B5Bpj/mYF/jBjzO/dWc+WcnKfjwAnjDFPurNurmIt7BltjFkvIsHAOux7wdyAB32e9dzn1XjQ5+kpTxJjgXRjTIYxphxYgH2TI9VBGGOWA7m1kp1tYNVhOblPj2KMyTbGrLdeH8e+Y2UsHvZ51nOfHsVTgoSzjYs8kQG+FJF1InKLuyvTypxtYOWJ7rL2fn+tozfDOBKRBGAUsAYP/jxr3Sd40OfpKUGiMznLGDMa+57hd1rNFx6vrTawcpMXgD7ASCAb+Jd7q+MaItIFeA+41xhT6HjMkz7POu7Toz5PTwkSzjYu8jjGmAPWvznAB9ib2jyVsw2sPIox5rAxpsoYUw28jAd8piLig/2L8w1jzPtWssd9nnXdp6d9np4SJNYC/UQk0drb4hrsmxx5FBEJsjrIsPYTnwxsrv+sDs3ZBlYepeaL03IFHfwztTYJexXYZox5yuGQR32ezu7T4z5PTxjdBGANM/s/wAt4zRjzFzdXyeVEpDf2pwewr+D7pqfcp4i8BUzEvszyYeBh4EPgHaAn1gZWDhtSdUhO7nMi9qYJA+wFbnVou+9wROQs4DtgE1BtJT+Ivb3eYz7Peu7zWjzp8/SUIKGUUsr1PKW5SSmlVCvQIKGUUsopDRJKKaWc0iChlFLKKQ0SSimlnNIgoZRSyikNEqrdEZHbRGSW9foGEYlpxDldRORFEdltrWu1TETOaOb1LxeRwc05tyMRkVARuaOBPBNF5OO2qpNqfzRIqHbHGPMfY8x86+0NQINBAngF++qq/YwxScCN2CesNcflQJOChIh4N/NaLtOMOoQC9QYJpTRIKLcTkVnWipkbReR1a9OW34rIDCAZeMPavOUSEfnQ4bwLReQDEekDnAH80VovB2PMHmPMJ1a+n4nID1YZL1r7jyAiJ0TkL9Z1V4tIdxGZAEwD/mnl72P9fG49oXwnIgOt8+eKyH9EZA3wDxE512GjmQ01S6jUcb8TrSedhSKyXUTesJZ4QESSRORb61pfOKx19AsRWWvV9T0RCXRShyBr5dEfrDpMt/INcfgdpIlIP+BvQB8r7Z+N+JzGWGX2sT6jedbvY5+IXCki/xD7hlifW2saKU9gjNEf/XHbDzAE+4ZRkdb7cOAR4LfW+2XYN1kCEGA7EGW9fxO4DPuX+gdOyh8EfAT4WO+fB2ZZrw1wmfX6H9iDDMBcYIZDGV9hf0IBezD62iHfx4CX9f4j4EzrdRfA20mdJgIF2BeitAGrgLMAH+B7h/ubiX2JGYAIh/MfB+52Uoe/Aj+zXodav9sg4DngOivdFwgAEoDNDXw+E63yJ2DfVKenlf4IsMKq8wigGLjIOvYBcLm7/9vSH9f8uP0RWXV65wPvGmunPWNMrvVH9WmMMUZEXgd+JiL/BcYDs4D6toe8AEgC1lrlBvDj6qPl2L8Awf4FeGHtk8W+DPQE4F2Hevk5ZHnXGFNlvV4JPCUibwDvG2Oy6qnXDzXHRSQV+xd2PjAUWGJdywv7UtMAQ0Xkcexf/F2AL5zUYTIwTUR+a733x75W0irgDyISZ9Vtl7Pfcx0GAS8Bk40xBx3SPzPGVIjIJquun1vpm6z7UR5Ag4TqaP6L/S/2UuxfjpUisgUYISJeDl+WNQSYZ4x5oI6yKowxNYuXVVH3/w82IN8YM9JJfYpqXhj7tpyfYA9aK0VkijFmu5Pzyhxe11xbgC3GmPF15J+L/a/zjSJyA/a/8E+rg1XGT4wxO2qdv81qkroE+FREbgUynNSttmzswWYU4BgkygCMMdUi4vi7rEa/WzyG9kkod/sauEpEIgBEJLzW8ePAybZ96y/Zg8AfsQcMjDG7gRTgzw5t+wkicgn2pqIZItKtpnwR6dVAnU5e09g3kdkjIldZ54uIjKjrJBHpY4zZZIz5O/bl6wc28ndQYwcQJSLjrfJ8RGSIdSwYyLba+q+rp4wvgLsdfg+jrH97AxnGmGexL9E9nFq/23rkYw8uT4jIxCbek+rgNEgotzLGbAH+AnwrIhuBp2plmQv8x+pcDbDS3gAyjTHbHPLdjH07zHQR2Wydl2OM2Yo9oHwpImnAEsBxvf+6LAB+V9NJi/1L+Sarfltwvn/6vSKy2bpOBfBZA9c5hbHvzz4D+Lt1rVTsTV0Af8K+1PZK7P0yzjyGvZ8gzXrCesxKvxrYbDVtDQXmG2OOYX/i2dxQx7Ux5jBwKTBHmjm0WHVMulS46nBE5N/ABmPMq+6ui1KeToOE6lBEZB32NvgLjTFlDeVXSrWMBgmlWomIDANer5VcZoxpd801Hamuqm1pkFBKKeWUdlwrpZRySoOEUkoppzRIKKWUckqDhFJKKaf+HwSQmXJFWKirAAAAAElFTkSuQmCC\n",
      "text/plain": [
       "<Figure size 432x288 with 1 Axes>"
      ]
     },
     "metadata": {
      "needs_background": "light"
     },
     "output_type": "display_data"
    }
   ],
   "source": [
    "# создаем столбец в км\n",
    "de['cityCenters_nearest_km'] = de['cityCenters_nearest'] / 1000\n",
    "de['cityCenters_nearest_km'] = de['cityCenters_nearest_km'].fillna(1337).astype('int')\n",
    "pt_nearest_km = (de.query('locality_name == \"Санкт-Петербург\" and cityCenters_nearest_km !=1337')\n",
    "                .pivot_table(index = 'cityCenters_nearest_km', values = 'price_per_m', aggfunc = 'mean'))\n",
    "pt_nearest_km.plot()\n",
    "pt_nearest_km"
   ]
  },
  {
   "cell_type": "markdown",
   "metadata": {},
   "source": [
    "Из графика мы видем, что граница находится в районе 7км"
   ]
  },
  {
   "cell_type": "markdown",
   "metadata": {},
   "source": [
    "#### Выделите сегмент квартир в центре. \n",
    "\n",
    "  Проанализируйте эту территорию и изучите следующие параметры: площадь, цена, число комнат, высота потолков. \n",
    "   \n",
    "   Также выделите факторы, которые влияют на стоимость квартиры (число комнат, этаж, удалённость от центра, дата размещения объявления). \n",
    "   \n",
    "   Сделайте выводы. Отличаются ли они от общих выводов по всему городу?"
   ]
  },
  {
   "cell_type": "code",
   "execution_count": 53,
   "metadata": {},
   "outputs": [
    {
     "data": {
      "text/html": [
       "<div>\n",
       "<style scoped>\n",
       "    .dataframe tbody tr th:only-of-type {\n",
       "        vertical-align: middle;\n",
       "    }\n",
       "\n",
       "    .dataframe tbody tr th {\n",
       "        vertical-align: top;\n",
       "    }\n",
       "\n",
       "    .dataframe thead th {\n",
       "        text-align: right;\n",
       "    }\n",
       "</style>\n",
       "<table border=\"1\" class=\"dataframe\">\n",
       "  <thead>\n",
       "    <tr style=\"text-align: right;\">\n",
       "      <th></th>\n",
       "      <th>total_images</th>\n",
       "      <th>last_price</th>\n",
       "      <th>total_area</th>\n",
       "      <th>first_day_exposition</th>\n",
       "      <th>rooms</th>\n",
       "      <th>ceiling_height</th>\n",
       "      <th>floors_total</th>\n",
       "      <th>living_area</th>\n",
       "      <th>floor</th>\n",
       "      <th>is_apartment</th>\n",
       "      <th>...</th>\n",
       "      <th>ponds_nearest</th>\n",
       "      <th>days_exposition</th>\n",
       "      <th>living_to_total</th>\n",
       "      <th>kitchen_to_total</th>\n",
       "      <th>price_per_m</th>\n",
       "      <th>week_exp</th>\n",
       "      <th>month_exp</th>\n",
       "      <th>year_exp</th>\n",
       "      <th>floor_category</th>\n",
       "      <th>cityCenters_nearest_km</th>\n",
       "    </tr>\n",
       "  </thead>\n",
       "  <tbody>\n",
       "    <tr>\n",
       "      <td>5304</td>\n",
       "      <td>16</td>\n",
       "      <td>13500000.0</td>\n",
       "      <td>124.5</td>\n",
       "      <td>2016-09-22</td>\n",
       "      <td>4</td>\n",
       "      <td>3.00</td>\n",
       "      <td>4.0</td>\n",
       "      <td>81.00</td>\n",
       "      <td>4</td>\n",
       "      <td>False</td>\n",
       "      <td>...</td>\n",
       "      <td>152.0</td>\n",
       "      <td>815.0</td>\n",
       "      <td>0.650602</td>\n",
       "      <td>0.171084</td>\n",
       "      <td>108433</td>\n",
       "      <td>3</td>\n",
       "      <td>9</td>\n",
       "      <td>2016</td>\n",
       "      <td>последний</td>\n",
       "      <td>1</td>\n",
       "    </tr>\n",
       "    <tr>\n",
       "      <td>106</td>\n",
       "      <td>9</td>\n",
       "      <td>10500000.0</td>\n",
       "      <td>124.1</td>\n",
       "      <td>2017-05-25</td>\n",
       "      <td>5</td>\n",
       "      <td>3.20</td>\n",
       "      <td>4.0</td>\n",
       "      <td>79.40</td>\n",
       "      <td>3</td>\n",
       "      <td>False</td>\n",
       "      <td>...</td>\n",
       "      <td>NaN</td>\n",
       "      <td>6.0</td>\n",
       "      <td>0.639807</td>\n",
       "      <td>0.161160</td>\n",
       "      <td>84609</td>\n",
       "      <td>3</td>\n",
       "      <td>5</td>\n",
       "      <td>2017</td>\n",
       "      <td>высокий</td>\n",
       "      <td>5</td>\n",
       "    </tr>\n",
       "    <tr>\n",
       "      <td>8284</td>\n",
       "      <td>10</td>\n",
       "      <td>13900000.0</td>\n",
       "      <td>124.0</td>\n",
       "      <td>2017-10-04</td>\n",
       "      <td>4</td>\n",
       "      <td>3.20</td>\n",
       "      <td>6.0</td>\n",
       "      <td>75.00</td>\n",
       "      <td>3</td>\n",
       "      <td>False</td>\n",
       "      <td>...</td>\n",
       "      <td>NaN</td>\n",
       "      <td>103.0</td>\n",
       "      <td>0.604839</td>\n",
       "      <td>0.161290</td>\n",
       "      <td>112096</td>\n",
       "      <td>2</td>\n",
       "      <td>10</td>\n",
       "      <td>2017</td>\n",
       "      <td>средний</td>\n",
       "      <td>4</td>\n",
       "    </tr>\n",
       "    <tr>\n",
       "      <td>201</td>\n",
       "      <td>5</td>\n",
       "      <td>10880000.0</td>\n",
       "      <td>123.1</td>\n",
       "      <td>2015-11-12</td>\n",
       "      <td>6</td>\n",
       "      <td>3.20</td>\n",
       "      <td>5.0</td>\n",
       "      <td>89.00</td>\n",
       "      <td>2</td>\n",
       "      <td>False</td>\n",
       "      <td>...</td>\n",
       "      <td>NaN</td>\n",
       "      <td>992.0</td>\n",
       "      <td>0.722989</td>\n",
       "      <td>0.089358</td>\n",
       "      <td>88383</td>\n",
       "      <td>3</td>\n",
       "      <td>11</td>\n",
       "      <td>2015</td>\n",
       "      <td>низкий</td>\n",
       "      <td>3</td>\n",
       "    </tr>\n",
       "    <tr>\n",
       "      <td>9870</td>\n",
       "      <td>5</td>\n",
       "      <td>10800000.0</td>\n",
       "      <td>123.0</td>\n",
       "      <td>2016-04-20</td>\n",
       "      <td>5</td>\n",
       "      <td>3.20</td>\n",
       "      <td>4.0</td>\n",
       "      <td>84.00</td>\n",
       "      <td>2</td>\n",
       "      <td>False</td>\n",
       "      <td>...</td>\n",
       "      <td>NaN</td>\n",
       "      <td>686.0</td>\n",
       "      <td>0.682927</td>\n",
       "      <td>0.130081</td>\n",
       "      <td>87804</td>\n",
       "      <td>2</td>\n",
       "      <td>4</td>\n",
       "      <td>2016</td>\n",
       "      <td>средний</td>\n",
       "      <td>2</td>\n",
       "    </tr>\n",
       "    <tr>\n",
       "      <td>...</td>\n",
       "      <td>...</td>\n",
       "      <td>...</td>\n",
       "      <td>...</td>\n",
       "      <td>...</td>\n",
       "      <td>...</td>\n",
       "      <td>...</td>\n",
       "      <td>...</td>\n",
       "      <td>...</td>\n",
       "      <td>...</td>\n",
       "      <td>...</td>\n",
       "      <td>...</td>\n",
       "      <td>...</td>\n",
       "      <td>...</td>\n",
       "      <td>...</td>\n",
       "      <td>...</td>\n",
       "      <td>...</td>\n",
       "      <td>...</td>\n",
       "      <td>...</td>\n",
       "      <td>...</td>\n",
       "      <td>...</td>\n",
       "      <td>...</td>\n",
       "    </tr>\n",
       "    <tr>\n",
       "      <td>6262</td>\n",
       "      <td>9</td>\n",
       "      <td>3100000.0</td>\n",
       "      <td>24.0</td>\n",
       "      <td>2018-06-25</td>\n",
       "      <td>2</td>\n",
       "      <td>3.00</td>\n",
       "      <td>5.0</td>\n",
       "      <td>16.00</td>\n",
       "      <td>5</td>\n",
       "      <td>False</td>\n",
       "      <td>...</td>\n",
       "      <td>936.0</td>\n",
       "      <td>54.0</td>\n",
       "      <td>0.666667</td>\n",
       "      <td>0.083333</td>\n",
       "      <td>129166</td>\n",
       "      <td>0</td>\n",
       "      <td>6</td>\n",
       "      <td>2018</td>\n",
       "      <td>последний</td>\n",
       "      <td>4</td>\n",
       "    </tr>\n",
       "    <tr>\n",
       "      <td>20254</td>\n",
       "      <td>5</td>\n",
       "      <td>3200000.0</td>\n",
       "      <td>23.6</td>\n",
       "      <td>2018-07-13</td>\n",
       "      <td>0</td>\n",
       "      <td>3.10</td>\n",
       "      <td>4.0</td>\n",
       "      <td>17.00</td>\n",
       "      <td>1</td>\n",
       "      <td>False</td>\n",
       "      <td>...</td>\n",
       "      <td>NaN</td>\n",
       "      <td>67.0</td>\n",
       "      <td>0.720339</td>\n",
       "      <td>NaN</td>\n",
       "      <td>135593</td>\n",
       "      <td>4</td>\n",
       "      <td>7</td>\n",
       "      <td>2018</td>\n",
       "      <td>первый</td>\n",
       "      <td>2</td>\n",
       "    </tr>\n",
       "    <tr>\n",
       "      <td>21478</td>\n",
       "      <td>3</td>\n",
       "      <td>3100000.0</td>\n",
       "      <td>22.7</td>\n",
       "      <td>2018-08-22</td>\n",
       "      <td>0</td>\n",
       "      <td>3.33</td>\n",
       "      <td>5.0</td>\n",
       "      <td>17.00</td>\n",
       "      <td>2</td>\n",
       "      <td>False</td>\n",
       "      <td>...</td>\n",
       "      <td>546.0</td>\n",
       "      <td>27.0</td>\n",
       "      <td>0.748899</td>\n",
       "      <td>NaN</td>\n",
       "      <td>136563</td>\n",
       "      <td>2</td>\n",
       "      <td>8</td>\n",
       "      <td>2018</td>\n",
       "      <td>низкий</td>\n",
       "      <td>3</td>\n",
       "    </tr>\n",
       "    <tr>\n",
       "      <td>6544</td>\n",
       "      <td>4</td>\n",
       "      <td>2740000.0</td>\n",
       "      <td>20.3</td>\n",
       "      <td>2018-12-18</td>\n",
       "      <td>1</td>\n",
       "      <td>3.00</td>\n",
       "      <td>6.0</td>\n",
       "      <td>16.00</td>\n",
       "      <td>1</td>\n",
       "      <td>False</td>\n",
       "      <td>...</td>\n",
       "      <td>1018.0</td>\n",
       "      <td>29.0</td>\n",
       "      <td>0.788177</td>\n",
       "      <td>0.197044</td>\n",
       "      <td>134975</td>\n",
       "      <td>1</td>\n",
       "      <td>12</td>\n",
       "      <td>2018</td>\n",
       "      <td>первый</td>\n",
       "      <td>4</td>\n",
       "    </tr>\n",
       "    <tr>\n",
       "      <td>8454</td>\n",
       "      <td>7</td>\n",
       "      <td>2250000.0</td>\n",
       "      <td>19.0</td>\n",
       "      <td>2019-03-12</td>\n",
       "      <td>0</td>\n",
       "      <td>3.00</td>\n",
       "      <td>6.0</td>\n",
       "      <td>10.64</td>\n",
       "      <td>2</td>\n",
       "      <td>False</td>\n",
       "      <td>...</td>\n",
       "      <td>374.0</td>\n",
       "      <td>44.0</td>\n",
       "      <td>NaN</td>\n",
       "      <td>NaN</td>\n",
       "      <td>118421</td>\n",
       "      <td>1</td>\n",
       "      <td>3</td>\n",
       "      <td>2019</td>\n",
       "      <td>низкий</td>\n",
       "      <td>7</td>\n",
       "    </tr>\n",
       "  </tbody>\n",
       "</table>\n",
       "<p>1267 rows × 30 columns</p>\n",
       "</div>"
      ],
      "text/plain": [
       "       total_images  last_price  total_area first_day_exposition  rooms  \\\n",
       "5304             16  13500000.0       124.5           2016-09-22      4   \n",
       "106               9  10500000.0       124.1           2017-05-25      5   \n",
       "8284             10  13900000.0       124.0           2017-10-04      4   \n",
       "201               5  10880000.0       123.1           2015-11-12      6   \n",
       "9870              5  10800000.0       123.0           2016-04-20      5   \n",
       "...             ...         ...         ...                  ...    ...   \n",
       "6262              9   3100000.0        24.0           2018-06-25      2   \n",
       "20254             5   3200000.0        23.6           2018-07-13      0   \n",
       "21478             3   3100000.0        22.7           2018-08-22      0   \n",
       "6544              4   2740000.0        20.3           2018-12-18      1   \n",
       "8454              7   2250000.0        19.0           2019-03-12      0   \n",
       "\n",
       "       ceiling_height  floors_total  living_area  floor  is_apartment  ...  \\\n",
       "5304             3.00           4.0        81.00      4         False  ...   \n",
       "106              3.20           4.0        79.40      3         False  ...   \n",
       "8284             3.20           6.0        75.00      3         False  ...   \n",
       "201              3.20           5.0        89.00      2         False  ...   \n",
       "9870             3.20           4.0        84.00      2         False  ...   \n",
       "...               ...           ...          ...    ...           ...  ...   \n",
       "6262             3.00           5.0        16.00      5         False  ...   \n",
       "20254            3.10           4.0        17.00      1         False  ...   \n",
       "21478            3.33           5.0        17.00      2         False  ...   \n",
       "6544             3.00           6.0        16.00      1         False  ...   \n",
       "8454             3.00           6.0        10.64      2         False  ...   \n",
       "\n",
       "       ponds_nearest  days_exposition  living_to_total  kitchen_to_total  \\\n",
       "5304           152.0            815.0         0.650602          0.171084   \n",
       "106              NaN              6.0         0.639807          0.161160   \n",
       "8284             NaN            103.0         0.604839          0.161290   \n",
       "201              NaN            992.0         0.722989          0.089358   \n",
       "9870             NaN            686.0         0.682927          0.130081   \n",
       "...              ...              ...              ...               ...   \n",
       "6262           936.0             54.0         0.666667          0.083333   \n",
       "20254            NaN             67.0         0.720339               NaN   \n",
       "21478          546.0             27.0         0.748899               NaN   \n",
       "6544          1018.0             29.0         0.788177          0.197044   \n",
       "8454           374.0             44.0              NaN               NaN   \n",
       "\n",
       "      price_per_m  week_exp  month_exp  year_exp  floor_category  \\\n",
       "5304       108433         3          9      2016       последний   \n",
       "106         84609         3          5      2017         высокий   \n",
       "8284       112096         2         10      2017         средний   \n",
       "201         88383         3         11      2015          низкий   \n",
       "9870        87804         2          4      2016         средний   \n",
       "...           ...       ...        ...       ...             ...   \n",
       "6262       129166         0          6      2018       последний   \n",
       "20254      135593         4          7      2018          первый   \n",
       "21478      136563         2          8      2018          низкий   \n",
       "6544       134975         1         12      2018          первый   \n",
       "8454       118421         1          3      2019          низкий   \n",
       "\n",
       "       cityCenters_nearest_km  \n",
       "5304                        1  \n",
       "106                         5  \n",
       "8284                        4  \n",
       "201                         3  \n",
       "9870                        2  \n",
       "...                       ...  \n",
       "6262                        4  \n",
       "20254                       2  \n",
       "21478                       3  \n",
       "6544                        4  \n",
       "8454                        7  \n",
       "\n",
       "[1267 rows x 30 columns]"
      ]
     },
     "execution_count": 53,
     "metadata": {},
     "output_type": "execute_result"
    }
   ],
   "source": [
    "# возьмем за радиус 5км, 3 все таки маловато\n",
    "spb_center = good_de.query('cityCenters_nearest_km <= 7 and locality_name == \"Санкт-Петербург\"')\n",
    "spb_center.sort_values('total_area', ascending=False)\n",
    "#spb_center.sort_values('last_price', ascending=False)\n",
    "#spb_center.sort_values('rooms', ascending=False)\n",
    "#spb_center.sort_values('ceiling_height', ascending=False)"
   ]
  },
  {
   "cell_type": "code",
   "execution_count": 54,
   "metadata": {},
   "outputs": [
    {
     "data": {
      "text/plain": [
       "-0.3695341806860589"
      ]
     },
     "execution_count": 54,
     "metadata": {},
     "output_type": "execute_result"
    },
    {
     "data": {
      "image/png": "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\n",
      "text/plain": [
       "<Figure size 432x288 with 1 Axes>"
      ]
     },
     "metadata": {
      "needs_background": "light"
     },
     "output_type": "display_data"
    }
   ],
   "source": [
    "spb_center_rooms = spb_center.pivot_table(index = 'rooms', values = 'price_per_m', aggfunc = ['mean', 'count', 'median'])\n",
    "spb_center_rooms.columns = ['mean', 'count', 'median']\n",
    "spb_center_rooms.query('count > 20').plot(y = 'median')\n",
    "spb_center['rooms'].corr(spb_center['price_per_m'])"
   ]
  },
  {
   "cell_type": "markdown",
   "metadata": {},
   "source": [
    "Коэффициент корреляции слишком низий, чтобы делать какие-либо выводы! "
   ]
  },
  {
   "cell_type": "code",
   "execution_count": 55,
   "metadata": {},
   "outputs": [
    {
     "data": {
      "text/html": [
       "<div>\n",
       "<style scoped>\n",
       "    .dataframe tbody tr th:only-of-type {\n",
       "        vertical-align: middle;\n",
       "    }\n",
       "\n",
       "    .dataframe tbody tr th {\n",
       "        vertical-align: top;\n",
       "    }\n",
       "\n",
       "    .dataframe thead th {\n",
       "        text-align: right;\n",
       "    }\n",
       "</style>\n",
       "<table border=\"1\" class=\"dataframe\">\n",
       "  <thead>\n",
       "    <tr style=\"text-align: right;\">\n",
       "      <th></th>\n",
       "      <th>mean</th>\n",
       "      <th>count</th>\n",
       "      <th>median</th>\n",
       "    </tr>\n",
       "    <tr>\n",
       "      <th>floor_category</th>\n",
       "      <th></th>\n",
       "      <th></th>\n",
       "      <th></th>\n",
       "    </tr>\n",
       "  </thead>\n",
       "  <tbody>\n",
       "    <tr>\n",
       "      <td>высокий</td>\n",
       "      <td>124824.053648</td>\n",
       "      <td>466</td>\n",
       "      <td>119883.5</td>\n",
       "    </tr>\n",
       "    <tr>\n",
       "      <td>низкий</td>\n",
       "      <td>132043.667752</td>\n",
       "      <td>307</td>\n",
       "      <td>127173.0</td>\n",
       "    </tr>\n",
       "    <tr>\n",
       "      <td>первый</td>\n",
       "      <td>108503.286667</td>\n",
       "      <td>150</td>\n",
       "      <td>104791.5</td>\n",
       "    </tr>\n",
       "    <tr>\n",
       "      <td>последний</td>\n",
       "      <td>119073.040984</td>\n",
       "      <td>244</td>\n",
       "      <td>109668.0</td>\n",
       "    </tr>\n",
       "    <tr>\n",
       "      <td>средний</td>\n",
       "      <td>118204.959596</td>\n",
       "      <td>99</td>\n",
       "      <td>110576.0</td>\n",
       "    </tr>\n",
       "  </tbody>\n",
       "</table>\n",
       "</div>"
      ],
      "text/plain": [
       "                         mean  count    median\n",
       "floor_category                                \n",
       "высокий         124824.053648    466  119883.5\n",
       "низкий          132043.667752    307  127173.0\n",
       "первый          108503.286667    150  104791.5\n",
       "последний       119073.040984    244  109668.0\n",
       "средний         118204.959596     99  110576.0"
      ]
     },
     "execution_count": 55,
     "metadata": {},
     "output_type": "execute_result"
    },
    {
     "data": {
      "image/png": "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\n",
      "text/plain": [
       "<Figure size 432x288 with 1 Axes>"
      ]
     },
     "metadata": {
      "needs_background": "light"
     },
     "output_type": "display_data"
    }
   ],
   "source": [
    "# по этажам\n",
    "spb_center_floor = (spb_center.query('floor_category != \"другой\"')\n",
    "                    .pivot_table(index = 'floor_category', values = 'price_per_m', aggfunc = ['mean', 'count', 'median']))\n",
    "\n",
    "spb_center_floor.columns = ['mean', 'count', 'median']\n",
    "spb_center_floor.plot(y = 'median')\n",
    "spb_center_floor"
   ]
  },
  {
   "cell_type": "markdown",
   "metadata": {},
   "source": [
    "### Вывод\n",
    "\n",
    "    1) убираем *другой* \n",
    "    \n",
    "    2) В отличии от выборки по области, тут лидирует - низкий этаж! \n",
    "      могу предположить, это потому что в самом городе очень низкие старые дома в цетре, они и дают такой результат\n",
    "    \n",
    "    3) Высокий и средний в целом, недалеко ушли по стоймости, но по количеству высокий опять впереди планеты всей, \n",
    "       а средний самый не популярный!\n",
    "       \n",
    "    4) Лишь одно осталось неизменно - первый этаж самый дешевый \n",
    " "
   ]
  },
  {
   "cell_type": "code",
   "execution_count": 56,
   "metadata": {},
   "outputs": [
    {
     "data": {
      "text/plain": [
       "0.02099233515428186"
      ]
     },
     "execution_count": 56,
     "metadata": {},
     "output_type": "execute_result"
    },
    {
     "data": {
      "image/png": "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
